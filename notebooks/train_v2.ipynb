{
  "cells": [
    {
      "cell_type": "code",
      "execution_count": null,
      "metadata": {
        "id": "5J2J3BkK4fkr"
      },
      "outputs": [],
      "source": [
        "# from huggingface_hub import interpreter_login\n",
        "# interpreter_login()"
      ]
    },
    {
      "cell_type": "code",
      "execution_count": null,
      "metadata": {
        "id": "w2slXWYc4fku"
      },
      "outputs": [],
      "source": [
        "import warnings\n",
        "\n",
        "import evaluate\n",
        "import numpy as np\n",
        "from datasets import load_dataset\n",
        "from transformers import AutoTokenizer\n",
        "\n",
        "warnings.filterwarnings(\"ignore\")"
      ]
    },
    {
      "cell_type": "markdown",
      "metadata": {
        "id": "kGLo0gxZ4fkv"
      },
      "source": [
        "# Setup config"
      ]
    },
    {
      "cell_type": "code",
      "execution_count": null,
      "metadata": {
        "id": "b-blpeCl4fkw"
      },
      "outputs": [],
      "source": [
        "MODEL_NAME = \"vinai/bartpho-syllable\"\n",
        "MAX_LENGTH = 256"
      ]
    },
    {
      "cell_type": "markdown",
      "metadata": {
        "id": "QI8plAy14fkx"
      },
      "source": [
        "# Download dataset"
      ]
    },
    {
      "cell_type": "code",
      "execution_count": null,
      "metadata": {
        "id": "O7KRe-YD4fkx"
      },
      "outputs": [],
      "source": [
        "# Tải bộ dataset\n",
        "dataset = load_dataset(\"datmieu2k4/notone_lower_address\")"
      ]
    },
    {
      "cell_type": "code",
      "execution_count": null,
      "metadata": {
        "id": "3HQPrr6i4fky"
      },
      "outputs": [],
      "source": [
        "dataset"
      ]
    },
    {
      "cell_type": "code",
      "execution_count": null,
      "metadata": {
        "id": "ZtCahAFB4fky"
      },
      "outputs": [],
      "source": [
        "# # reduce dataset for testing\n",
        "# dataset[\"train\"] = dataset[\"train\"].select(range(1_000))\n",
        "# dataset[\"test\"] = dataset[\"test\"].select(range(1_000))"
      ]
    },
    {
      "cell_type": "code",
      "execution_count": null,
      "metadata": {
        "id": "CzqyukUA4fkz"
      },
      "outputs": [],
      "source": [
        "dataset[\"train\"][-1]"
      ]
    },
    {
      "cell_type": "code",
      "execution_count": null,
      "metadata": {
        "id": "lshfwubY4fkz"
      },
      "outputs": [],
      "source": [
        "# Example\n",
        "tokenizer = AutoTokenizer.from_pretrained(MODEL_NAME)\n",
        "\n",
        "input = dataset[\"train\"][-1][\"input\"]\n",
        "output = dataset[\"train\"][-1][\"output\"]\n",
        "\n",
        "# Sử dụng tokenizer để mã hóa dữ liệu đầu vào\n",
        "inputs = tokenizer(input, text_target=output, max_length=MAX_LENGTH, truncation=True)\n",
        "\n",
        "inputs, len(inputs[\"input_ids\"])"
      ]
    },
    {
      "cell_type": "markdown",
      "metadata": {
        "id": "emEkhs624fk0"
      },
      "source": [
        "# Tokenize dataset"
      ]
    },
    {
      "cell_type": "code",
      "execution_count": null,
      "metadata": {
        "id": "UGoHjM_94fk0"
      },
      "outputs": [],
      "source": [
        "def preprocess_function(examples):\n",
        "    # Tokenize the text and apply truncation\n",
        "    return tokenizer(\n",
        "        examples[\"input\"],\n",
        "        text_target=examples[\"output\"],\n",
        "        max_length=MAX_LENGTH,\n",
        "        truncation=True,\n",
        "    )\n",
        "\n",
        "\n",
        "# Apply tokenization in a batched manner for efficiency\n",
        "tokenized_datasets = dataset.map(\n",
        "    preprocess_function,\n",
        "    batched=True,\n",
        "    remove_columns=dataset[\"train\"].column_names,\n",
        ")"
      ]
    },
    {
      "cell_type": "markdown",
      "metadata": {
        "id": "mwIslykB4fk0"
      },
      "source": [
        "# Model"
      ]
    },
    {
      "cell_type": "code",
      "execution_count": null,
      "metadata": {
        "id": "F3YYezzb4fk0"
      },
      "outputs": [],
      "source": [
        "from transformers import AutoModelForSeq2SeqLM\n",
        "\n",
        "model = AutoModelForSeq2SeqLM.from_pretrained(MODEL_NAME)"
      ]
    },
    {
      "cell_type": "markdown",
      "metadata": {
        "id": "hlkHhqtF4fk1"
      },
      "source": [
        "# Metric"
      ]
    },
    {
      "cell_type": "code",
      "execution_count": null,
      "metadata": {
        "id": "CH_vp_LR4fk1"
      },
      "outputs": [],
      "source": [
        "from transformers import DataCollatorForSeq2Seq\n",
        "\n",
        "data_collator = DataCollatorForSeq2Seq(tokenizer, model=model)"
      ]
    },
    {
      "cell_type": "code",
      "execution_count": null,
      "metadata": {
        "id": "TR06WURn4fk1"
      },
      "outputs": [],
      "source": [
        "import evaluate\n",
        "\n",
        "metric = evaluate.load(\"sacrebleu\")"
      ]
    },
    {
      "cell_type": "code",
      "execution_count": null,
      "metadata": {
        "id": "le-bVrRM4fk1"
      },
      "outputs": [],
      "source": [
        "predictions = [\n",
        "    \"Nếu làm được như vậy thì chắc chắn sẽ không còn trường nào tùy tiện thu tiền cao, gây sự lo lắng của phụ huynh và ai không có tiền thì không cần đóng.\"\n",
        "]\n",
        "references = [\n",
        "    [\n",
        "        \"Nếu làm được như vậy thì chắc chắn sẽ không còn trường nào tùy tiện thu tiền cao, gây sự lo lắng của phụ huynh và ai không có tiền thì không cần đóng.\"\n",
        "    ]\n",
        "]\n",
        "metric.compute(predictions=predictions, references=references)"
      ]
    },
    {
      "cell_type": "code",
      "execution_count": null,
      "metadata": {
        "id": "ToXfhauX4fk1"
      },
      "outputs": [],
      "source": [
        "predictions = [\n",
        "    \"Nếu làm được như vậy thì chắc chắn sẽ khôTng còn trường nà tùy tiện tu tiềncaogây sự lo hắng của phụ huynh và ai khÔng có tiền thì kông cần dong\"\n",
        "]\n",
        "references = [\n",
        "    [\n",
        "        \"Nếu làm được như vậy thì chắc chắn sẽ không còn trường nào tùy tiện thu tiền cao, gây sự lo lắng của phụ huynh và ai không có tiền thì không cần đóng.\"\n",
        "    ]\n",
        "]\n",
        "metric.compute(predictions=predictions, references=references)"
      ]
    },
    {
      "cell_type": "code",
      "execution_count": null,
      "metadata": {
        "id": "GjQc8mdZ4fk1"
      },
      "outputs": [],
      "source": [
        "def compute_metrics(eval_preds):\n",
        "    preds, labels = eval_preds\n",
        "    # In case the model returns more than the prediction logits\n",
        "    if isinstance(preds, tuple):\n",
        "        preds = preds[0]\n",
        "\n",
        "    decoded_preds = tokenizer.batch_decode(preds, skip_special_tokens=True)\n",
        "\n",
        "    # Replace -100s in the labels as we can't decode them\n",
        "    labels = np.where(labels != -100, labels, tokenizer.pad_token_id)\n",
        "    decoded_labels = tokenizer.batch_decode(labels, skip_special_tokens=True)\n",
        "\n",
        "    # Some simple post-processing\n",
        "    decoded_preds = [pred.strip() for pred in decoded_preds]\n",
        "    decoded_labels = [[label.strip()] for label in decoded_labels]\n",
        "\n",
        "    result = metric.compute(predictions=decoded_preds, references=decoded_labels)\n",
        "    return {\"sacrebleu\": result[\"score\"]}"
      ]
    },
    {
      "cell_type": "markdown",
      "metadata": {
        "id": "G50RvpBc4fk1"
      },
      "source": [
        "# Fine-tuning the model"
      ]
    },
    {
      "cell_type": "code",
      "execution_count": null,
      "metadata": {
        "id": "rQ7e7ezA4fk2"
      },
      "outputs": [],
      "source": [
        "from transformers import Seq2SeqTrainingArguments\n",
        "\n",
        "args = Seq2SeqTrainingArguments(\n",
        "    do_train=True,\n",
        "    do_eval=True,\n",
        "    output_dir=\"bmd1905/vietnamese-correction-2.0\",\n",
        "    num_train_epochs=10,\n",
        "    learning_rate=1e-5,\n",
        "    per_device_train_batch_size=12,\n",
        "    per_device_eval_batch_size=12 * 4,\n",
        "    gradient_accumulation_steps=4,\n",
        "    evaluation_strategy=\"steps\",\n",
        "    eval_steps=20_000,\n",
        "    save_strategy=\"steps\",\n",
        "    logging_steps=20_000,\n",
        "    save_total_limit=5,\n",
        "    predict_with_generate=True,\n",
        "    fp16=True,\n",
        "    push_to_hub=True,\n",
        ")"
      ]
    },
    {
      "cell_type": "code",
      "execution_count": null,
      "metadata": {
        "id": "CLo6Z6S14fk2"
      },
      "outputs": [],
      "source": [
        "from transformers import Seq2SeqTrainer\n",
        "\n",
        "trainer = Seq2SeqTrainer(\n",
        "    model,\n",
        "    args,\n",
        "    train_dataset=tokenized_datasets[\"train\"],\n",
        "    eval_dataset=tokenized_datasets[\"test\"],\n",
        "    data_collator=data_collator,\n",
        "    tokenizer=tokenizer,\n",
        "    compute_metrics=compute_metrics,\n",
        ")\n",
        "\n",
        "trainer.evaluate()"
      ]
    },
    {
      "cell_type": "code",
      "execution_count": null,
      "metadata": {
        "id": "bzLufPRx4fk2"
      },
      "outputs": [],
      "source": [
        "trainer.train()"
      ]
    },
    {
      "cell_type": "code",
      "execution_count": null,
      "metadata": {
        "id": "BduDGPiU4fk2"
      },
      "outputs": [],
      "source": [
        "trainer.evaluate()"
      ]
    },
    {
      "cell_type": "code",
      "execution_count": null,
      "metadata": {
        "id": "NOkSl4Fm4fk2"
      },
      "outputs": [],
      "source": [
        "trainer.push_to_hub(tags=\"text2text-generation\", commit_message=\"Training complete\")"
      ]
    },
    {
      "cell_type": "markdown",
      "metadata": {
        "id": "PcDyMIK_4fk2"
      },
      "source": [
        "# Inference"
      ]
    },
    {
      "cell_type": "code",
      "execution_count": null,
      "metadata": {
        "id": "Y8atB_9D4fk2"
      },
      "outputs": [],
      "source": [
        "from transformers import pipeline\n",
        "\n",
        "corrector = pipeline(\"text2text-generation\", model=\"bmd1905/vietnamese-correction-2.0\")"
      ]
    },
    {
      "cell_type": "code",
      "execution_count": null,
      "metadata": {
        "id": "jkESeemP4fk2"
      },
      "outputs": [],
      "source": [
        "MAX_LENGTH = 512\n",
        "\n",
        "# Define the text samples\n",
        "texts = [\n",
        "    \"côn viec kin doanh thì rất kho khan nên toi quyết dinh chuyển sang nghề khac  \",\n",
        "    \"toi dang là sinh diên nam hai ở truong đạ hoc khoa jọc tự nhiên , trogn năm ke tiep toi sẽ chọn chuyen nganh về trí tue nhana tạo\",\n",
        "    \"Tôi  đang học AI ở trun tam AI viet nam  \",\n",
        "    \"Nhưng sức huỷ divt của cơn bão mitch vẫn chưa thấm vào đâu lsovớithảm hoạ tại Bangladesh ăm 1970 \",\n",
        "    \"Lần này anh Phươngqyết xếp hàng mua bằng được 1 chiếc\",\n",
        "    \"một số chuyen gia tài chính ngâSn hànG của Việt Nam cũng chung quan điểmnày\",\n",
        "    \"Cac so liệu cho thay ngươi dân viet nam đang sống trong 1 cuôc sóng không duojc nhu mong đọi\",\n",
        "    \"Nefn kinh té thé giới đang đúng trươc nguyen co của mọt cuoc suy thoai\",\n",
        "    \"Khong phai tất ca nhưng gi chung ta thấy dideu là sụ that\",\n",
        "    \"chinh phủ luôn cố găng het suc để naggna cao chat luong nền giáo duc =cua nuoc nhà\",\n",
        "    \"nèn kinh te thé giới đang đứng trươc nguy co của mọt cuoc suy thoai\",\n",
        "    \"kinh tế viet nam dang dứng truoc 1 thoi ky đổi mơi chưa tung có tienf lệ trong lịch sử\",\n",
        "]\n",
        "\n",
        "# Batch prediction\n",
        "predictions = corrector(texts, max_length=MAX_LENGTH)\n",
        "\n",
        "# Print predictions\n",
        "for text, pred in zip(texts, predictions):\n",
        "    print(\"- \" + pred[\"generated_text\"])"
      ]
    },
    {
      "cell_type": "code",
      "execution_count": null,
      "metadata": {
        "id": "PQSa_44_4fk3"
      },
      "outputs": [],
      "source": []
    }
  ],
  "metadata": {
    "kernelspec": {
      "display_name": "duc_open_sora",
      "language": "python",
      "name": "python3"
    },
    "language_info": {
      "codemirror_mode": {
        "name": "ipython",
        "version": 3
      },
      "file_extension": ".py",
      "mimetype": "text/x-python",
      "name": "python",
      "nbconvert_exporter": "python",
      "pygments_lexer": "ipython3",
      "version": "3.11.0"
    },
    "colab": {
      "provenance": []
    }
  },
  "nbformat": 4,
  "nbformat_minor": 0
}