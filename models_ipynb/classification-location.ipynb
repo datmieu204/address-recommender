{
 "cells": [
  {
   "cell_type": "code",
   "execution_count": 1,
   "id": "7806fcf2",
   "metadata": {
    "execution": {
     "iopub.execute_input": "2025-03-27T11:08:43.685154Z",
     "iopub.status.busy": "2025-03-27T11:08:43.684775Z",
     "iopub.status.idle": "2025-03-27T11:08:49.079029Z",
     "shell.execute_reply": "2025-03-27T11:08:49.078023Z"
    },
    "papermill": {
     "duration": 5.402256,
     "end_time": "2025-03-27T11:08:49.080672",
     "exception": false,
     "start_time": "2025-03-27T11:08:43.678416",
     "status": "completed"
    },
    "tags": []
   },
   "outputs": [
    {
     "name": "stdout",
     "output_type": "stream",
     "text": [
      "Requirement already satisfied: transformers in /usr/local/lib/python3.10/dist-packages (4.47.0)\r\n",
      "Requirement already satisfied: torch in /usr/local/lib/python3.10/dist-packages (2.5.1+cu121)\r\n",
      "Requirement already satisfied: pandas in /usr/local/lib/python3.10/dist-packages (2.2.3)\r\n",
      "Requirement already satisfied: scikit-learn in /usr/local/lib/python3.10/dist-packages (1.2.2)\r\n",
      "Requirement already satisfied: datasets in /usr/local/lib/python3.10/dist-packages (3.3.1)\r\n",
      "Requirement already satisfied: openpyxl in /usr/local/lib/python3.10/dist-packages (3.1.5)\r\n",
      "Collecting pyvi\r\n",
      "  Downloading pyvi-0.1.1-py2.py3-none-any.whl.metadata (2.5 kB)\r\n",
      "Requirement already satisfied: filelock in /usr/local/lib/python3.10/dist-packages (from transformers) (3.17.0)\r\n",
      "Requirement already satisfied: huggingface-hub<1.0,>=0.24.0 in /usr/local/lib/python3.10/dist-packages (from transformers) (0.29.0)\r\n",
      "Requirement already satisfied: numpy>=1.17 in /usr/local/lib/python3.10/dist-packages (from transformers) (1.26.4)\r\n",
      "Requirement already satisfied: packaging>=20.0 in /usr/local/lib/python3.10/dist-packages (from transformers) (24.2)\r\n",
      "Requirement already satisfied: pyyaml>=5.1 in /usr/local/lib/python3.10/dist-packages (from transformers) (6.0.2)\r\n",
      "Requirement already satisfied: regex!=2019.12.17 in /usr/local/lib/python3.10/dist-packages (from transformers) (2024.11.6)\r\n",
      "Requirement already satisfied: requests in /usr/local/lib/python3.10/dist-packages (from transformers) (2.32.3)\r\n",
      "Requirement already satisfied: tokenizers<0.22,>=0.21 in /usr/local/lib/python3.10/dist-packages (from transformers) (0.21.0)\r\n",
      "Requirement already satisfied: safetensors>=0.4.1 in /usr/local/lib/python3.10/dist-packages (from transformers) (0.4.5)\r\n",
      "Requirement already satisfied: tqdm>=4.27 in /usr/local/lib/python3.10/dist-packages (from transformers) (4.67.1)\r\n",
      "Requirement already satisfied: typing-extensions>=4.8.0 in /usr/local/lib/python3.10/dist-packages (from torch) (4.12.2)\r\n",
      "Requirement already satisfied: networkx in /usr/local/lib/python3.10/dist-packages (from torch) (3.4.2)\r\n",
      "Requirement already satisfied: jinja2 in /usr/local/lib/python3.10/dist-packages (from torch) (3.1.4)\r\n",
      "Requirement already satisfied: fsspec in /usr/local/lib/python3.10/dist-packages (from torch) (2024.12.0)\r\n",
      "Requirement already satisfied: sympy==1.13.1 in /usr/local/lib/python3.10/dist-packages (from torch) (1.13.1)\r\n",
      "Requirement already satisfied: mpmath<1.4,>=1.1.0 in /usr/local/lib/python3.10/dist-packages (from sympy==1.13.1->torch) (1.3.0)\r\n",
      "Requirement already satisfied: python-dateutil>=2.8.2 in /usr/local/lib/python3.10/dist-packages (from pandas) (2.9.0.post0)\r\n",
      "Requirement already satisfied: pytz>=2020.1 in /usr/local/lib/python3.10/dist-packages (from pandas) (2025.1)\r\n",
      "Requirement already satisfied: tzdata>=2022.7 in /usr/local/lib/python3.10/dist-packages (from pandas) (2025.1)\r\n",
      "Requirement already satisfied: scipy>=1.3.2 in /usr/local/lib/python3.10/dist-packages (from scikit-learn) (1.13.1)\r\n",
      "Requirement already satisfied: joblib>=1.1.1 in /usr/local/lib/python3.10/dist-packages (from scikit-learn) (1.4.2)\r\n",
      "Requirement already satisfied: threadpoolctl>=2.0.0 in /usr/local/lib/python3.10/dist-packages (from scikit-learn) (3.5.0)\r\n",
      "Requirement already satisfied: pyarrow>=15.0.0 in /usr/local/lib/python3.10/dist-packages (from datasets) (19.0.1)\r\n",
      "Requirement already satisfied: dill<0.3.9,>=0.3.0 in /usr/local/lib/python3.10/dist-packages (from datasets) (0.3.8)\r\n",
      "Requirement already satisfied: xxhash in /usr/local/lib/python3.10/dist-packages (from datasets) (3.5.0)\r\n",
      "Requirement already satisfied: multiprocess<0.70.17 in /usr/local/lib/python3.10/dist-packages (from datasets) (0.70.16)\r\n",
      "Requirement already satisfied: aiohttp in /usr/local/lib/python3.10/dist-packages (from datasets) (3.11.12)\r\n",
      "Requirement already satisfied: et-xmlfile in /usr/local/lib/python3.10/dist-packages (from openpyxl) (2.0.0)\r\n",
      "Collecting sklearn-crfsuite (from pyvi)\r\n",
      "  Downloading sklearn_crfsuite-0.5.0-py2.py3-none-any.whl.metadata (4.9 kB)\r\n",
      "Requirement already satisfied: aiohappyeyeballs>=2.3.0 in /usr/local/lib/python3.10/dist-packages (from aiohttp->datasets) (2.4.6)\r\n",
      "Requirement already satisfied: aiosignal>=1.1.2 in /usr/local/lib/python3.10/dist-packages (from aiohttp->datasets) (1.3.2)\r\n",
      "Requirement already satisfied: async-timeout<6.0,>=4.0 in /usr/local/lib/python3.10/dist-packages (from aiohttp->datasets) (5.0.1)\r\n",
      "Requirement already satisfied: attrs>=17.3.0 in /usr/local/lib/python3.10/dist-packages (from aiohttp->datasets) (25.1.0)\r\n",
      "Requirement already satisfied: frozenlist>=1.1.1 in /usr/local/lib/python3.10/dist-packages (from aiohttp->datasets) (1.5.0)\r\n",
      "Requirement already satisfied: multidict<7.0,>=4.5 in /usr/local/lib/python3.10/dist-packages (from aiohttp->datasets) (6.1.0)\r\n",
      "Requirement already satisfied: propcache>=0.2.0 in /usr/local/lib/python3.10/dist-packages (from aiohttp->datasets) (0.2.1)\r\n",
      "Requirement already satisfied: yarl<2.0,>=1.17.0 in /usr/local/lib/python3.10/dist-packages (from aiohttp->datasets) (1.18.3)\r\n",
      "Requirement already satisfied: mkl_fft in /usr/local/lib/python3.10/dist-packages (from numpy>=1.17->transformers) (1.3.8)\r\n",
      "Requirement already satisfied: mkl_random in /usr/local/lib/python3.10/dist-packages (from numpy>=1.17->transformers) (1.2.4)\r\n",
      "Requirement already satisfied: mkl_umath in /usr/local/lib/python3.10/dist-packages (from numpy>=1.17->transformers) (0.1.1)\r\n",
      "Requirement already satisfied: mkl in /usr/local/lib/python3.10/dist-packages (from numpy>=1.17->transformers) (2025.0.1)\r\n",
      "Requirement already satisfied: tbb4py in /usr/local/lib/python3.10/dist-packages (from numpy>=1.17->transformers) (2022.0.0)\r\n",
      "Requirement already satisfied: mkl-service in /usr/local/lib/python3.10/dist-packages (from numpy>=1.17->transformers) (2.4.1)\r\n",
      "Requirement already satisfied: six>=1.5 in /usr/local/lib/python3.10/dist-packages (from python-dateutil>=2.8.2->pandas) (1.17.0)\r\n",
      "Requirement already satisfied: charset-normalizer<4,>=2 in /usr/local/lib/python3.10/dist-packages (from requests->transformers) (3.4.1)\r\n",
      "Requirement already satisfied: idna<4,>=2.5 in /usr/local/lib/python3.10/dist-packages (from requests->transformers) (3.10)\r\n",
      "Requirement already satisfied: urllib3<3,>=1.21.1 in /usr/local/lib/python3.10/dist-packages (from requests->transformers) (2.3.0)\r\n",
      "Requirement already satisfied: certifi>=2017.4.17 in /usr/local/lib/python3.10/dist-packages (from requests->transformers) (2025.1.31)\r\n",
      "Requirement already satisfied: MarkupSafe>=2.0 in /usr/local/lib/python3.10/dist-packages (from jinja2->torch) (3.0.2)\r\n",
      "Collecting python-crfsuite>=0.9.7 (from sklearn-crfsuite->pyvi)\r\n",
      "  Downloading python_crfsuite-0.9.11-cp310-cp310-manylinux_2_17_x86_64.manylinux2014_x86_64.whl.metadata (4.3 kB)\r\n",
      "Requirement already satisfied: tabulate>=0.4.2 in /usr/local/lib/python3.10/dist-packages (from sklearn-crfsuite->pyvi) (0.9.0)\r\n",
      "Requirement already satisfied: intel-openmp>=2024 in /usr/local/lib/python3.10/dist-packages (from mkl->numpy>=1.17->transformers) (2024.2.0)\r\n",
      "Requirement already satisfied: tbb==2022.* in /usr/local/lib/python3.10/dist-packages (from mkl->numpy>=1.17->transformers) (2022.0.0)\r\n",
      "Requirement already satisfied: tcmlib==1.* in /usr/local/lib/python3.10/dist-packages (from tbb==2022.*->mkl->numpy>=1.17->transformers) (1.2.0)\r\n",
      "Requirement already satisfied: intel-cmplr-lib-rt in /usr/local/lib/python3.10/dist-packages (from mkl_umath->numpy>=1.17->transformers) (2024.2.0)\r\n",
      "Requirement already satisfied: intel-cmplr-lib-ur==2024.2.0 in /usr/local/lib/python3.10/dist-packages (from intel-openmp>=2024->mkl->numpy>=1.17->transformers) (2024.2.0)\r\n",
      "Downloading pyvi-0.1.1-py2.py3-none-any.whl (8.5 MB)\r\n",
      "\u001b[2K   \u001b[90m━━━━━━━━━━━━━━━━━━━━━━━━━━━━━━━━━━━━━━━━\u001b[0m \u001b[32m8.5/8.5 MB\u001b[0m \u001b[31m58.7 MB/s\u001b[0m eta \u001b[36m0:00:00\u001b[0m\r\n",
      "\u001b[?25hDownloading sklearn_crfsuite-0.5.0-py2.py3-none-any.whl (10 kB)\r\n",
      "Downloading python_crfsuite-0.9.11-cp310-cp310-manylinux_2_17_x86_64.manylinux2014_x86_64.whl (1.2 MB)\r\n",
      "\u001b[2K   \u001b[90m━━━━━━━━━━━━━━━━━━━━━━━━━━━━━━━━━━━━━━━━\u001b[0m \u001b[32m1.2/1.2 MB\u001b[0m \u001b[31m54.5 MB/s\u001b[0m eta \u001b[36m0:00:00\u001b[0m\r\n",
      "\u001b[?25hInstalling collected packages: python-crfsuite, sklearn-crfsuite, pyvi\r\n",
      "Successfully installed python-crfsuite-0.9.11 pyvi-0.1.1 sklearn-crfsuite-0.5.0\r\n"
     ]
    }
   ],
   "source": [
    "!pip install transformers torch pandas scikit-learn datasets openpyxl pyvi"
   ]
  },
  {
   "cell_type": "markdown",
   "id": "b529ebe2",
   "metadata": {
    "papermill": {
     "duration": 0.005503,
     "end_time": "2025-03-27T11:08:49.092468",
     "exception": false,
     "start_time": "2025-03-27T11:08:49.086965",
     "status": "completed"
    },
    "tags": []
   },
   "source": [
    "## Lib"
   ]
  },
  {
   "cell_type": "code",
   "execution_count": 2,
   "id": "187dfaf9",
   "metadata": {
    "_cell_guid": "b1076dfc-b9ad-4769-8c92-a6c4dae69d19",
    "_uuid": "8f2839f25d086af736a60e9eeb907d3b93b6e0e5",
    "execution": {
     "iopub.execute_input": "2025-03-27T11:08:49.104555Z",
     "iopub.status.busy": "2025-03-27T11:08:49.104264Z",
     "iopub.status.idle": "2025-03-27T11:09:13.891831Z",
     "shell.execute_reply": "2025-03-27T11:09:13.890931Z"
    },
    "papermill": {
     "duration": 24.795249,
     "end_time": "2025-03-27T11:09:13.893382",
     "exception": false,
     "start_time": "2025-03-27T11:08:49.098133",
     "status": "completed"
    },
    "tags": []
   },
   "outputs": [
    {
     "data": {
      "text/plain": [
       "<torch._C.Generator at 0x7986d15dac10>"
      ]
     },
     "execution_count": 2,
     "metadata": {},
     "output_type": "execute_result"
    }
   ],
   "source": [
    "import torch\n",
    "from transformers.utils import is_tf_available, is_torch_available, is_torch_tpu_available\n",
    "from transformers import AutoTokenizer, AutoModelForSequenceClassification\n",
    "from transformers import Trainer, TrainingArguments, AutoConfig\n",
    "from transformers import DataCollatorWithPadding \n",
    "import numpy as np\n",
    "import random\n",
    "from sklearn.model_selection import train_test_split\n",
    "from sklearn.metrics import f1_score, accuracy_score, classification_report, confusion_matrix\n",
    "import pandas as pd\n",
    "import os\n",
    "import time\n",
    "import matplotlib.pyplot as plt\n",
    "import seaborn as sns \n",
    "# from imblearn.over_sampling import SMOTE # Loại bỏ nếu không sử dụng SMOTE\n",
    "os.environ[\"WANDB_DISABLED\"] = \"true\"\n",
    "import warnings\n",
    "\n",
    "warnings.filterwarnings(\"ignore\")\n",
    "\n",
    "SEED = 25\n",
    "random.seed(SEED)\n",
    "np.random.seed(SEED)\n",
    "torch.manual_seed(SEED)"
   ]
  },
  {
   "cell_type": "markdown",
   "id": "8849e12e",
   "metadata": {
    "papermill": {
     "duration": 0.005545,
     "end_time": "2025-03-27T11:09:13.905062",
     "exception": false,
     "start_time": "2025-03-27T11:09:13.899517",
     "status": "completed"
    },
    "tags": []
   },
   "source": [
    "# 1. Load data"
   ]
  },
  {
   "cell_type": "code",
   "execution_count": 3,
   "id": "7389961d",
   "metadata": {
    "execution": {
     "iopub.execute_input": "2025-03-27T11:09:13.917177Z",
     "iopub.status.busy": "2025-03-27T11:09:13.916627Z",
     "iopub.status.idle": "2025-03-27T11:09:23.555337Z",
     "shell.execute_reply": "2025-03-27T11:09:23.554336Z"
    },
    "papermill": {
     "duration": 9.646483,
     "end_time": "2025-03-27T11:09:23.557046",
     "exception": false,
     "start_time": "2025-03-27T11:09:13.910563",
     "status": "completed"
    },
    "tags": []
   },
   "outputs": [],
   "source": [
    "df = pd.read_csv('/kaggle/input/dataset-location/combined_location_data.csv',encoding='utf-8')"
   ]
  },
  {
   "cell_type": "code",
   "execution_count": 4,
   "id": "1fea5a1f",
   "metadata": {
    "execution": {
     "iopub.execute_input": "2025-03-27T11:09:23.571307Z",
     "iopub.status.busy": "2025-03-27T11:09:23.571061Z",
     "iopub.status.idle": "2025-03-27T11:09:23.716812Z",
     "shell.execute_reply": "2025-03-27T11:09:23.715923Z"
    },
    "papermill": {
     "duration": 0.153508,
     "end_time": "2025-03-27T11:09:23.718129",
     "exception": false,
     "start_time": "2025-03-27T11:09:23.564621",
     "status": "completed"
    },
    "tags": []
   },
   "outputs": [
    {
     "data": {
      "text/html": [
       "<div>\n",
       "<style scoped>\n",
       "    .dataframe tbody tr th:only-of-type {\n",
       "        vertical-align: middle;\n",
       "    }\n",
       "\n",
       "    .dataframe tbody tr th {\n",
       "        vertical-align: top;\n",
       "    }\n",
       "\n",
       "    .dataframe thead th {\n",
       "        text-align: right;\n",
       "    }\n",
       "</style>\n",
       "<table border=\"1\" class=\"dataframe\">\n",
       "  <thead>\n",
       "    <tr style=\"text-align: right;\">\n",
       "      <th></th>\n",
       "      <th>address</th>\n",
       "      <th>label</th>\n",
       "    </tr>\n",
       "  </thead>\n",
       "  <tbody>\n",
       "    <tr>\n",
       "      <th>3085441</th>\n",
       "      <td>Tổ 9 Chạy_nhanh</td>\n",
       "      <td>0</td>\n",
       "    </tr>\n",
       "    <tr>\n",
       "      <th>94780</th>\n",
       "      <td>ấp Bà Điều xã Lý_Văn_Lâm K5 ,  F1 ,  Thành_phố...</td>\n",
       "      <td>1</td>\n",
       "    </tr>\n",
       "    <tr>\n",
       "      <th>3246694</th>\n",
       "      <td>Tôi chỉ đành tạm_thời gác lại ý_định đi khám_phá</td>\n",
       "      <td>0</td>\n",
       "    </tr>\n",
       "    <tr>\n",
       "      <th>3282522</th>\n",
       "      <td>Đường Ngôi_nhà 200</td>\n",
       "      <td>0</td>\n",
       "    </tr>\n",
       "    <tr>\n",
       "      <th>982446</th>\n",
       "      <td>Quận 473 Mạnh_mẽ Hấp_dẫn</td>\n",
       "      <td>0</td>\n",
       "    </tr>\n",
       "  </tbody>\n",
       "</table>\n",
       "</div>"
      ],
      "text/plain": [
       "                                                   address  label\n",
       "3085441                                    Tổ 9 Chạy_nhanh      0\n",
       "94780    ấp Bà Điều xã Lý_Văn_Lâm K5 ,  F1 ,  Thành_phố...      1\n",
       "3246694   Tôi chỉ đành tạm_thời gác lại ý_định đi khám_phá      0\n",
       "3282522                                 Đường Ngôi_nhà 200      0\n",
       "982446                            Quận 473 Mạnh_mẽ Hấp_dẫn      0"
      ]
     },
     "execution_count": 4,
     "metadata": {},
     "output_type": "execute_result"
    }
   ],
   "source": [
    "df.sample(5)"
   ]
  },
  {
   "cell_type": "code",
   "execution_count": 5,
   "id": "afa35512",
   "metadata": {
    "execution": {
     "iopub.execute_input": "2025-03-27T11:09:23.731070Z",
     "iopub.status.busy": "2025-03-27T11:09:23.730780Z",
     "iopub.status.idle": "2025-03-27T11:09:23.789813Z",
     "shell.execute_reply": "2025-03-27T11:09:23.788850Z"
    },
    "papermill": {
     "duration": 0.066937,
     "end_time": "2025-03-27T11:09:23.791142",
     "exception": false,
     "start_time": "2025-03-27T11:09:23.724205",
     "status": "completed"
    },
    "tags": []
   },
   "outputs": [
    {
     "name": "stdout",
     "output_type": "stream",
     "text": [
      "Các nhãn duy nhất trong dữ liệu:\n",
      "[0 1]\n"
     ]
    }
   ],
   "source": [
    "df['label'] = df['label'].astype(int)\n",
    "\n",
    "print(\"Các nhãn duy nhất trong dữ liệu:\")\n",
    "print(df['label'].unique())\n",
    "assert set(df['label'].unique()) == {0, 1}, \"Cột 'label' phải chỉ chứa giá trị 0 và 1.\""
   ]
  },
  {
   "cell_type": "code",
   "execution_count": 6,
   "id": "2b1b26c9",
   "metadata": {
    "execution": {
     "iopub.execute_input": "2025-03-27T11:09:23.804340Z",
     "iopub.status.busy": "2025-03-27T11:09:23.804076Z",
     "iopub.status.idle": "2025-03-27T11:09:25.810088Z",
     "shell.execute_reply": "2025-03-27T11:09:25.809277Z"
    },
    "papermill": {
     "duration": 2.014303,
     "end_time": "2025-03-27T11:09:25.811529",
     "exception": false,
     "start_time": "2025-03-27T11:09:23.797226",
     "status": "completed"
    },
    "tags": []
   },
   "outputs": [],
   "source": [
    "# Tách dữ liệu thành tập huấn luyện (train), xác thực (validation) và kiểm tra (test)\n",
    "# Tỷ lệ: 80% train, 10% validation, 10% test\n",
    "train_texts_labels, test_texts_labels = train_test_split(\n",
    "    df[['address', 'label']],\n",
    "    test_size=0.2, # Giữ lại 20% cho validation và test\n",
    "    random_state=SEED,\n",
    "    stratify=df['label'] # Giữ tỷ lệ nhãn trong các tập con\n",
    ")\n",
    "\n",
    "valid_texts_labels, test_texts_labels = train_test_split(\n",
    "    test_texts_labels,\n",
    "    test_size=0.5, # Chia 20% còn lại thành 10% validation và 10% test\n",
    "    random_state=SEED,\n",
    "    stratify=test_texts_labels['label'] # Giữ tỷ lệ nhãn\n",
    ")"
   ]
  },
  {
   "cell_type": "code",
   "execution_count": 7,
   "id": "2013c2e9",
   "metadata": {
    "execution": {
     "iopub.execute_input": "2025-03-27T11:09:25.824382Z",
     "iopub.status.busy": "2025-03-27T11:09:25.824130Z",
     "iopub.status.idle": "2025-03-27T11:09:26.845362Z",
     "shell.execute_reply": "2025-03-27T11:09:26.844306Z"
    },
    "papermill": {
     "duration": 1.029249,
     "end_time": "2025-03-27T11:09:26.846896",
     "exception": false,
     "start_time": "2025-03-27T11:09:25.817647",
     "status": "completed"
    },
    "tags": []
   },
   "outputs": [
    {
     "name": "stdout",
     "output_type": "stream",
     "text": [
      "Kích thước tập huấn luyện: 2797738\n",
      "Kích thước tập xác thực: 349717\n",
      "Kích thước tập kiểm tra: 349718\n"
     ]
    }
   ],
   "source": [
    "train_texts = list(train_texts_labels['address'])\n",
    "train_labels = list(train_texts_labels['label'])\n",
    "\n",
    "valid_texts = list(valid_texts_labels['address'])\n",
    "valid_labels = list(valid_texts_labels['label'])\n",
    "\n",
    "test_texts = list(test_texts_labels['address'])\n",
    "test_labels = list(test_texts_labels['label'])\n",
    "\n",
    "print(f\"Kích thước tập huấn luyện: {len(train_texts)}\")\n",
    "print(f\"Kích thước tập xác thực: {len(valid_texts)}\")\n",
    "print(f\"Kích thước tập kiểm tra: {len(test_texts)}\")\n",
    "\n",
    "target_names = ['Not Address', 'Address'] # Nhãn tương ứng với 0 và 1"
   ]
  },
  {
   "cell_type": "markdown",
   "id": "5fd70931",
   "metadata": {
    "papermill": {
     "duration": 0.005712,
     "end_time": "2025-03-27T11:09:26.859084",
     "exception": false,
     "start_time": "2025-03-27T11:09:26.853372",
     "status": "completed"
    },
    "tags": []
   },
   "source": [
    "# 2. Tokenization"
   ]
  },
  {
   "cell_type": "code",
   "execution_count": 8,
   "id": "54977342",
   "metadata": {
    "execution": {
     "iopub.execute_input": "2025-03-27T11:09:26.872385Z",
     "iopub.status.busy": "2025-03-27T11:09:26.872005Z",
     "iopub.status.idle": "2025-03-27T11:09:26.875932Z",
     "shell.execute_reply": "2025-03-27T11:09:26.875097Z"
    },
    "papermill": {
     "duration": 0.012345,
     "end_time": "2025-03-27T11:09:26.877294",
     "exception": false,
     "start_time": "2025-03-27T11:09:26.864949",
     "status": "completed"
    },
    "tags": []
   },
   "outputs": [],
   "source": [
    "model_name = \"vinai/phobert-base\" \n",
    "max_length = 32 "
   ]
  },
  {
   "cell_type": "code",
   "execution_count": 9,
   "id": "95082b87",
   "metadata": {
    "execution": {
     "iopub.execute_input": "2025-03-27T11:09:26.890084Z",
     "iopub.status.busy": "2025-03-27T11:09:26.889644Z",
     "iopub.status.idle": "2025-03-27T11:17:26.124183Z",
     "shell.execute_reply": "2025-03-27T11:17:26.123415Z"
    },
    "papermill": {
     "duration": 479.242929,
     "end_time": "2025-03-27T11:17:26.125953",
     "exception": false,
     "start_time": "2025-03-27T11:09:26.883024",
     "status": "completed"
    },
    "tags": []
   },
   "outputs": [
    {
     "data": {
      "application/vnd.jupyter.widget-view+json": {
       "model_id": "fe8349ddef2f4710904724cedb5a5ebc",
       "version_major": 2,
       "version_minor": 0
      },
      "text/plain": [
       "config.json:   0%|          | 0.00/557 [00:00<?, ?B/s]"
      ]
     },
     "metadata": {},
     "output_type": "display_data"
    },
    {
     "data": {
      "application/vnd.jupyter.widget-view+json": {
       "model_id": "0a08c77af075480892247c3d2c45d569",
       "version_major": 2,
       "version_minor": 0
      },
      "text/plain": [
       "vocab.txt:   0%|          | 0.00/895k [00:00<?, ?B/s]"
      ]
     },
     "metadata": {},
     "output_type": "display_data"
    },
    {
     "data": {
      "application/vnd.jupyter.widget-view+json": {
       "model_id": "dc99ec0b22d04afc9111545a24b95ca1",
       "version_major": 2,
       "version_minor": 0
      },
      "text/plain": [
       "bpe.codes:   0%|          | 0.00/1.14M [00:00<?, ?B/s]"
      ]
     },
     "metadata": {},
     "output_type": "display_data"
    },
    {
     "data": {
      "application/vnd.jupyter.widget-view+json": {
       "model_id": "822741e7f19e45738035aaf3343dbe27",
       "version_major": 2,
       "version_minor": 0
      },
      "text/plain": [
       "tokenizer.json:   0%|          | 0.00/3.13M [00:00<?, ?B/s]"
      ]
     },
     "metadata": {},
     "output_type": "display_data"
    }
   ],
   "source": [
    "tokenizer = AutoTokenizer.from_pretrained(model_name, do_lower_case=True)\n",
    "\n",
    "# Tokenize dữ liệu\n",
    "train_encodings = tokenizer(train_texts, truncation=True, padding=True, max_length=max_length)\n",
    "valid_encodings = tokenizer(valid_texts, truncation=True, padding=True, max_length=max_length)\n",
    "test_encodings = tokenizer(test_texts, truncation=True, padding=True, max_length=max_length)"
   ]
  },
  {
   "cell_type": "markdown",
   "id": "5f601f92",
   "metadata": {
    "papermill": {
     "duration": 0.00608,
     "end_time": "2025-03-27T11:17:26.139381",
     "exception": false,
     "start_time": "2025-03-27T11:17:26.133301",
     "status": "completed"
    },
    "tags": []
   },
   "source": [
    "# 3. Create Dataset Pytorch"
   ]
  },
  {
   "cell_type": "code",
   "execution_count": 10,
   "id": "40a64ae4",
   "metadata": {
    "execution": {
     "iopub.execute_input": "2025-03-27T11:17:26.152619Z",
     "iopub.status.busy": "2025-03-27T11:17:26.152396Z",
     "iopub.status.idle": "2025-03-27T11:17:26.156741Z",
     "shell.execute_reply": "2025-03-27T11:17:26.156121Z"
    },
    "papermill": {
     "duration": 0.012364,
     "end_time": "2025-03-27T11:17:26.157967",
     "exception": false,
     "start_time": "2025-03-27T11:17:26.145603",
     "status": "completed"
    },
    "tags": []
   },
   "outputs": [],
   "source": [
    "class AddressDataset(torch.utils.data.Dataset):\n",
    "    def __init__(self, encodings, labels):\n",
    "        self.encodings = encodings\n",
    "        self.labels = labels\n",
    "\n",
    "    def __getitem__(self, idx):\n",
    "        item = {key: torch.tensor(val[idx]) for key, val in self.encodings.items()}\n",
    "        item['labels'] = torch.tensor(self.labels[idx], dtype=torch.long)\n",
    "        return item\n",
    "\n",
    "    def __len__(self):\n",
    "        return len(self.labels)"
   ]
  },
  {
   "cell_type": "code",
   "execution_count": 11,
   "id": "495a46d1",
   "metadata": {
    "execution": {
     "iopub.execute_input": "2025-03-27T11:17:26.170906Z",
     "iopub.status.busy": "2025-03-27T11:17:26.170680Z",
     "iopub.status.idle": "2025-03-27T11:17:26.173777Z",
     "shell.execute_reply": "2025-03-27T11:17:26.173175Z"
    },
    "papermill": {
     "duration": 0.010811,
     "end_time": "2025-03-27T11:17:26.174963",
     "exception": false,
     "start_time": "2025-03-27T11:17:26.164152",
     "status": "completed"
    },
    "tags": []
   },
   "outputs": [],
   "source": [
    "train_dataset = AddressDataset(train_encodings, train_labels)\n",
    "valid_dataset = AddressDataset(valid_encodings, valid_labels)\n",
    "test_dataset = AddressDataset(test_encodings, test_labels)"
   ]
  },
  {
   "cell_type": "markdown",
   "id": "e055474a",
   "metadata": {
    "papermill": {
     "duration": 0.005898,
     "end_time": "2025-03-27T11:17:26.186980",
     "exception": false,
     "start_time": "2025-03-27T11:17:26.181082",
     "status": "completed"
    },
    "tags": []
   },
   "source": [
    "# 4. Model"
   ]
  },
  {
   "cell_type": "code",
   "execution_count": 12,
   "id": "a39a2761",
   "metadata": {
    "execution": {
     "iopub.execute_input": "2025-03-27T11:17:26.199686Z",
     "iopub.status.busy": "2025-03-27T11:17:26.199487Z",
     "iopub.status.idle": "2025-03-27T11:17:26.202482Z",
     "shell.execute_reply": "2025-03-27T11:17:26.201892Z"
    },
    "papermill": {
     "duration": 0.010685,
     "end_time": "2025-03-27T11:17:26.203648",
     "exception": false,
     "start_time": "2025-03-27T11:17:26.192963",
     "status": "completed"
    },
    "tags": []
   },
   "outputs": [],
   "source": [
    "label2id = {\"Not Address\": 0, \"Address\": 1}\n",
    "id2label = {0: \"Not Address\", 1: \"Address\"}"
   ]
  },
  {
   "cell_type": "code",
   "execution_count": 13,
   "id": "705aff8d",
   "metadata": {
    "execution": {
     "iopub.execute_input": "2025-03-27T11:17:26.216541Z",
     "iopub.status.busy": "2025-03-27T11:17:26.216346Z",
     "iopub.status.idle": "2025-03-27T11:17:29.841520Z",
     "shell.execute_reply": "2025-03-27T11:17:29.840505Z"
    },
    "papermill": {
     "duration": 3.633441,
     "end_time": "2025-03-27T11:17:29.843107",
     "exception": false,
     "start_time": "2025-03-27T11:17:26.209666",
     "status": "completed"
    },
    "tags": []
   },
   "outputs": [
    {
     "data": {
      "application/vnd.jupyter.widget-view+json": {
       "model_id": "3d6adffa81bc4b6abe17e5df10b272ad",
       "version_major": 2,
       "version_minor": 0
      },
      "text/plain": [
       "pytorch_model.bin:   0%|          | 0.00/543M [00:00<?, ?B/s]"
      ]
     },
     "metadata": {},
     "output_type": "display_data"
    },
    {
     "name": "stderr",
     "output_type": "stream",
     "text": [
      "Some weights of RobertaForSequenceClassification were not initialized from the model checkpoint at vinai/phobert-base and are newly initialized: ['classifier.dense.bias', 'classifier.dense.weight', 'classifier.out_proj.bias', 'classifier.out_proj.weight']\n",
      "You should probably TRAIN this model on a down-stream task to be able to use it for predictions and inference.\n"
     ]
    }
   ],
   "source": [
    "model = AutoModelForSequenceClassification.from_pretrained(\n",
    "    model_name,\n",
    "    num_labels=2,\n",
    "    label2id=label2id,\n",
    "    id2label=id2label\n",
    ")"
   ]
  },
  {
   "cell_type": "markdown",
   "id": "bdfd652d",
   "metadata": {
    "papermill": {
     "duration": 0.006254,
     "end_time": "2025-03-27T11:17:29.856076",
     "exception": false,
     "start_time": "2025-03-27T11:17:29.849822",
     "status": "completed"
    },
    "tags": []
   },
   "source": [
    "# 5. Metrics"
   ]
  },
  {
   "cell_type": "code",
   "execution_count": 14,
   "id": "c56ec021",
   "metadata": {
    "execution": {
     "iopub.execute_input": "2025-03-27T11:17:29.870184Z",
     "iopub.status.busy": "2025-03-27T11:17:29.869897Z",
     "iopub.status.idle": "2025-03-27T11:17:29.874469Z",
     "shell.execute_reply": "2025-03-27T11:17:29.873834Z"
    },
    "papermill": {
     "duration": 0.013104,
     "end_time": "2025-03-27T11:17:29.875640",
     "exception": false,
     "start_time": "2025-03-27T11:17:29.862536",
     "status": "completed"
    },
    "tags": []
   },
   "outputs": [],
   "source": [
    "def compute_metrics(pred):\n",
    "    labels = pred.label_ids\n",
    "    preds = pred.predictions.argmax(-1)\n",
    "    acc = accuracy_score(labels, preds)\n",
    "    f1 = f1_score(labels, preds, average='weighted') # 'weighted' tính F1 cho mỗi nhãn và tìm trung bình có trọng số\n",
    "                                                    # 'binary' chỉ tính cho lớp positive (1)\n",
    "                                                    # 'macro' tính F1 cho mỗi nhãn và tìm trung bình không trọng số\n",
    "    return {\n",
    "        'accuracy': acc,\n",
    "        'f1': f1,\n",
    "    }"
   ]
  },
  {
   "cell_type": "markdown",
   "id": "5f08c8c7",
   "metadata": {
    "papermill": {
     "duration": 0.006098,
     "end_time": "2025-03-27T11:17:29.887899",
     "exception": false,
     "start_time": "2025-03-27T11:17:29.881801",
     "status": "completed"
    },
    "tags": []
   },
   "source": [
    "# 6. Training Arguments "
   ]
  },
  {
   "cell_type": "code",
   "execution_count": 15,
   "id": "7ea1a55c",
   "metadata": {
    "execution": {
     "iopub.execute_input": "2025-03-27T11:17:29.901110Z",
     "iopub.status.busy": "2025-03-27T11:17:29.900890Z",
     "iopub.status.idle": "2025-03-27T11:17:30.034367Z",
     "shell.execute_reply": "2025-03-27T11:17:30.033405Z"
    },
    "papermill": {
     "duration": 0.141763,
     "end_time": "2025-03-27T11:17:30.035867",
     "exception": false,
     "start_time": "2025-03-27T11:17:29.894104",
     "status": "completed"
    },
    "tags": []
   },
   "outputs": [
    {
     "name": "stderr",
     "output_type": "stream",
     "text": [
      "Using the `WANDB_DISABLED` environment variable is deprecated and will be removed in v5. Use the --report_to flag to control the integrations used for logging result (for instance --report_to none).\n"
     ]
    }
   ],
   "source": [
    "training_args = TrainingArguments(\n",
    "    output_dir='./address_classifier_model', # Thư mục lưu model\n",
    "    evaluation_strategy=\"epoch\",      # Đánh giá sau mỗi epoch\n",
    "    save_strategy='epoch',            # Lưu model sau mỗi epoch\n",
    "    metric_for_best_model=\"f1\",       # Chọn model tốt nhất dựa trên F1 score (hoặc 'accuracy')\n",
    "    load_best_model_at_end=True,      # Tải model tốt nhất khi kết thúc huấn luyện\n",
    "    greater_is_better=True,           # F1/Accuracy càng cao càng tốt\n",
    "    num_train_epochs=1,               # Giảm số epoch để chạy nhanh hơn (có thể tăng lên 5 hoặc hơn)\n",
    "    per_device_train_batch_size=32,   # Batch size cho huấn luyện\n",
    "    per_device_eval_batch_size=64,    # Batch size cho đánh giá (thường có thể lớn hơn)\n",
    "    warmup_steps=100,                 # Số bước warmup\n",
    "    weight_decay=0.01,                # Weight decay\n",
    "    learning_rate=2e-5,               # Learning rate (thường nhỏ hơn cho fine-tuning)\n",
    "    # gradient_accumulation_steps=1,  # Bỏ qua nếu không cần\n",
    "    # lr_scheduler_type=\"cosine\",       # Có thể dùng scheduler khác hoặc mặc định ('linear')\n",
    "    logging_dir='./logs',             # Thư mục lưu log\n",
    "    logging_steps=round(len(train_dataset) / (16 * torch.cuda.device_count() if torch.cuda.is_available() else 1) / 10), # Log thường xuyên hơn\n",
    "    save_total_limit=2                # Giới hạn số lượng checkpoint được lưu\n",
    ")"
   ]
  },
  {
   "cell_type": "markdown",
   "id": "7ddb0aac",
   "metadata": {
    "papermill": {
     "duration": 0.006293,
     "end_time": "2025-03-27T11:17:30.049107",
     "exception": false,
     "start_time": "2025-03-27T11:17:30.042814",
     "status": "completed"
    },
    "tags": []
   },
   "source": [
    "# 7. Data Collator và Trainer"
   ]
  },
  {
   "cell_type": "code",
   "execution_count": 16,
   "id": "c0493a80",
   "metadata": {
    "execution": {
     "iopub.execute_input": "2025-03-27T11:17:30.062818Z",
     "iopub.status.busy": "2025-03-27T11:17:30.062530Z",
     "iopub.status.idle": "2025-03-27T11:17:30.655559Z",
     "shell.execute_reply": "2025-03-27T11:17:30.654887Z"
    },
    "papermill": {
     "duration": 0.601676,
     "end_time": "2025-03-27T11:17:30.657094",
     "exception": false,
     "start_time": "2025-03-27T11:17:30.055418",
     "status": "completed"
    },
    "tags": []
   },
   "outputs": [],
   "source": [
    "data_collator = DataCollatorWithPadding(tokenizer=tokenizer)\n",
    "\n",
    "trainer = Trainer(\n",
    "    model=model,\n",
    "    args=training_args,\n",
    "    train_dataset=train_dataset,\n",
    "    eval_dataset=valid_dataset,\n",
    "    tokenizer=tokenizer,\n",
    "    compute_metrics=compute_metrics,\n",
    "    data_collator=data_collator,\n",
    ")"
   ]
  },
  {
   "cell_type": "markdown",
   "id": "10327dd9",
   "metadata": {
    "papermill": {
     "duration": 0.006176,
     "end_time": "2025-03-27T11:17:30.670074",
     "exception": false,
     "start_time": "2025-03-27T11:17:30.663898",
     "status": "completed"
    },
    "tags": []
   },
   "source": [
    "# 8. Training"
   ]
  },
  {
   "cell_type": "code",
   "execution_count": 17,
   "id": "9325f0c0",
   "metadata": {
    "execution": {
     "iopub.execute_input": "2025-03-27T11:17:30.683575Z",
     "iopub.status.busy": "2025-03-27T11:17:30.683290Z",
     "iopub.status.idle": "2025-03-27T14:22:03.609831Z",
     "shell.execute_reply": "2025-03-27T14:22:03.609025Z"
    },
    "papermill": {
     "duration": 11072.935085,
     "end_time": "2025-03-27T14:22:03.611393",
     "exception": false,
     "start_time": "2025-03-27T11:17:30.676308",
     "status": "completed"
    },
    "tags": []
   },
   "outputs": [
    {
     "name": "stdout",
     "output_type": "stream",
     "text": [
      "Bắt đầu huấn luyện...\n"
     ]
    },
    {
     "data": {
      "text/html": [
       "\n",
       "    <div>\n",
       "      \n",
       "      <progress value='87430' max='87430' style='width:300px; height:20px; vertical-align: middle;'></progress>\n",
       "      [87430/87430 3:04:25, Epoch 1/1]\n",
       "    </div>\n",
       "    <table border=\"1\" class=\"dataframe\">\n",
       "  <thead>\n",
       " <tr style=\"text-align: left;\">\n",
       "      <th>Epoch</th>\n",
       "      <th>Training Loss</th>\n",
       "      <th>Validation Loss</th>\n",
       "      <th>Accuracy</th>\n",
       "      <th>F1</th>\n",
       "    </tr>\n",
       "  </thead>\n",
       "  <tbody>\n",
       "    <tr>\n",
       "      <td>1</td>\n",
       "      <td>0.001500</td>\n",
       "      <td>0.001272</td>\n",
       "      <td>0.999834</td>\n",
       "      <td>0.999834</td>\n",
       "    </tr>\n",
       "  </tbody>\n",
       "</table><p>"
      ],
      "text/plain": [
       "<IPython.core.display.HTML object>"
      ]
     },
     "metadata": {},
     "output_type": "display_data"
    },
    {
     "name": "stdout",
     "output_type": "stream",
     "text": [
      "Thời gian huấn luyện: 11072.92 giây\n"
     ]
    }
   ],
   "source": [
    "print(\"Bắt đầu huấn luyện...\")\n",
    "time_start = time.time()\n",
    "\n",
    "trainer.train()\n",
    "\n",
    "time_end = time.time()\n",
    "total_time = time_end - time_start\n",
    "print(f\"Thời gian huấn luyện: {total_time:.2f} giây\")"
   ]
  },
  {
   "cell_type": "markdown",
   "id": "1a74e6a1",
   "metadata": {
    "papermill": {
     "duration": 0.006486,
     "end_time": "2025-03-27T14:22:03.625161",
     "exception": false,
     "start_time": "2025-03-27T14:22:03.618675",
     "status": "completed"
    },
    "tags": []
   },
   "source": [
    "# 9. Evaluate"
   ]
  },
  {
   "cell_type": "code",
   "execution_count": 18,
   "id": "79c9ba17",
   "metadata": {
    "execution": {
     "iopub.execute_input": "2025-03-27T14:22:03.639247Z",
     "iopub.status.busy": "2025-03-27T14:22:03.638958Z",
     "iopub.status.idle": "2025-03-27T14:33:00.915733Z",
     "shell.execute_reply": "2025-03-27T14:33:00.914431Z"
    },
    "papermill": {
     "duration": 657.285639,
     "end_time": "2025-03-27T14:33:00.917371",
     "exception": false,
     "start_time": "2025-03-27T14:22:03.631732",
     "status": "completed"
    },
    "tags": []
   },
   "outputs": [
    {
     "name": "stdout",
     "output_type": "stream",
     "text": [
      "\n",
      "Đánh giá trên validation set:\n"
     ]
    },
    {
     "data": {
      "text/html": [],
      "text/plain": [
       "<IPython.core.display.HTML object>"
      ]
     },
     "metadata": {},
     "output_type": "display_data"
    },
    {
     "name": "stdout",
     "output_type": "stream",
     "text": [
      "{'eval_loss': 0.0012716165510937572, 'eval_accuracy': 0.9998341516140193, 'eval_f1': 0.9998341507294893, 'eval_runtime': 327.1607, 'eval_samples_per_second': 1068.946, 'eval_steps_per_second': 16.704, 'epoch': 1.0}\n",
      "\n",
      "Đánh giá trên test set:\n",
      "\n",
      "Classification Report:\n",
      "              precision    recall  f1-score   support\n",
      "\n",
      " Not Address      1.000     1.000     1.000    185000\n",
      "     Address      1.000     1.000     1.000    164718\n",
      "\n",
      "    accuracy                          1.000    349718\n",
      "   macro avg      1.000     1.000     1.000    349718\n",
      "weighted avg      1.000     1.000     1.000    349718\n",
      "\n"
     ]
    }
   ],
   "source": [
    "print(\"\\nĐánh giá trên validation set:\")\n",
    "eval_results = trainer.evaluate()\n",
    "print(eval_results)\n",
    "\n",
    "print(\"\\nĐánh giá trên test set:\")\n",
    "pred_output = trainer.predict(test_dataset)\n",
    "\n",
    "# Lấy dự đoán và nhãn thực tế\n",
    "y_pred = np.argmax(pred_output.predictions, axis=1)\n",
    "y_true = test_labels # Sử dụng test_labels đã tách trước đó\n",
    "\n",
    "print(\"\\nClassification Report:\")\n",
    "print(classification_report(y_true, y_pred, target_names=target_names, digits=3))"
   ]
  },
  {
   "cell_type": "markdown",
   "id": "93eb6ce1",
   "metadata": {
    "papermill": {
     "duration": 0.006645,
     "end_time": "2025-03-27T14:33:00.931356",
     "exception": false,
     "start_time": "2025-03-27T14:33:00.924711",
     "status": "completed"
    },
    "tags": []
   },
   "source": [
    "# 10. Confused matrix"
   ]
  },
  {
   "cell_type": "code",
   "execution_count": 19,
   "id": "b67d195b",
   "metadata": {
    "execution": {
     "iopub.execute_input": "2025-03-27T14:33:00.945784Z",
     "iopub.status.busy": "2025-03-27T14:33:00.945489Z",
     "iopub.status.idle": "2025-03-27T14:33:01.348922Z",
     "shell.execute_reply": "2025-03-27T14:33:01.348036Z"
    },
    "papermill": {
     "duration": 0.412332,
     "end_time": "2025-03-27T14:33:01.350373",
     "exception": false,
     "start_time": "2025-03-27T14:33:00.938041",
     "status": "completed"
    },
    "tags": []
   },
   "outputs": [
    {
     "data": {
      "image/png": "[encoded data removed]",
      "text/plain": [
       "<Figure size 800x600 with 2 Axes>"
      ]
     },
     "metadata": {},
     "output_type": "display_data"
    },
    {
     "name": "stdout",
     "output_type": "stream",
     "text": [
      "\n",
      "Hoàn thành!\n"
     ]
    }
   ],
   "source": [
    "confuse = confusion_matrix(y_true, y_pred)\n",
    "\n",
    "fig, ax = plt.subplots(figsize=(8, 6))\n",
    "\n",
    "# Tính toán tỷ lệ phần trăm\n",
    "confuse_percent = np.round(np.divide(confuse, np.sum(confuse, axis=1, keepdims=True)) * 100, 1)\n",
    "\n",
    "sns.heatmap(confuse_percent, annot=True, fmt=\".1f\", cmap='Blues', ax=ax,\n",
    "            xticklabels=target_names, yticklabels=target_names)\n",
    "\n",
    "# sns.heatmap(confuse, annot=True, fmt=\"d\", cmap='Blues', ax=ax, # Hiển thị số lượng tuyệt đối\n",
    "#             xticklabels=target_names, yticklabels=target_names)\n",
    "\n",
    "\n",
    "ax.set_xlabel('Dự đoán (Predicted)')\n",
    "ax.set_ylabel('Thực tế (Actual)');\n",
    "ax.set_title('Ma trận nhầm lẫn (%)')\n",
    "\n",
    "plt.show()\n",
    "\n",
    "print(\"\\nHoàn thành!\")"
   ]
  },
  {
   "cell_type": "code",
   "execution_count": null,
   "id": "361b14e3",
   "metadata": {
    "papermill": {
     "duration": 0.007232,
     "end_time": "2025-03-27T14:33:01.365452",
     "exception": false,
     "start_time": "2025-03-27T14:33:01.358220",
     "status": "completed"
    },
    "tags": []
   },
   "outputs": [],
   "source": []
  },
  {
   "cell_type": "code",
   "execution_count": null,
   "id": "22d25a5f",
   "metadata": {
    "papermill": {
     "duration": 0.007309,
     "end_time": "2025-03-27T14:33:01.380247",
     "exception": false,
     "start_time": "2025-03-27T14:33:01.372938",
     "status": "completed"
    },
    "tags": []
   },
   "outputs": [],
   "source": []
  }
 ],
 "metadata": {
  "kaggle": {
   "accelerator": "gpu",
   "dataSources": [
    {
     "datasetId": 6980169,
     "sourceId": 11182619,
     "sourceType": "datasetVersion"
    }
   ],
   "dockerImageVersionId": 30919,
   "isGpuEnabled": true,
   "isInternetEnabled": true,
   "language": "python",
   "sourceType": "notebook"
  },
  "kernelspec": {
   "display_name": "Python 3",
   "language": "python",
   "name": "python3"
  },
  "language_info": {
   "codemirror_mode": {
    "name": "ipython",
    "version": 3
   },
   "file_extension": ".py",
   "mimetype": "text/x-python",
   "name": "python",
   "nbconvert_exporter": "python",
   "pygments_lexer": "ipython3",
   "version": "3.10.12"
  },
  "papermill": {
   "default_parameters": {},
   "duration": 12263.585275,
   "end_time": "2025-03-27T14:33:04.625378",
   "environment_variables": {},
   "exception": null,
   "input_path": "__notebook__.ipynb",
   "output_path": "__notebook__.ipynb",
   "parameters": {},
   "start_time": "2025-03-27T11:08:41.040103",
   "version": "2.6.0"
  },
  "widgets": {
   "application/vnd.jupyter.widget-state+json": {
    "state": {
     "09ae43cb18e742f9b57c4b61f0033cbc": {
      "model_module": "@jupyter-widgets/base",
      "model_module_version": "2.0.0",
      "model_name": "LayoutModel",
      "state": {
       "_model_module": "@jupyter-widgets/base",
       "_model_module_version": "2.0.0",
       "_model_name": "LayoutModel",
       "_view_count": null,
       "_view_module": "@jupyter-widgets/base",
       "_view_module_version": "2.0.0",
       "_view_name": "LayoutView",
       "align_content": null,
       "align_items": null,
       "align_self": null,
       "border_bottom": null,
       "border_left": null,
       "border_right": null,
       "border_top": null,
       "bottom": null,
       "display": null,
       "flex": null,
       "flex_flow": null,
       "grid_area": null,
       "grid_auto_columns": null,
       "grid_auto_flow": null,
       "grid_auto_rows": null,
       "grid_column": null,
       "grid_gap": null,
       "grid_row": null,
       "grid_template_areas": null,
       "grid_template_columns": null,
       "grid_template_rows": null,
       "height": null,
       "justify_content": null,
       "justify_items": null,
       "left": null,
       "margin": null,
       "max_height": null,
       "max_width": null,
       "min_height": null,
       "min_width": null,
       "object_fit": null,
       "object_position": null,
       "order": null,
       "overflow": null,
       "padding": null,
       "right": null,
       "top": null,
       "visibility": null,
       "width": null
      }
     },
     "0a08c77af075480892247c3d2c45d569": {
      "model_module": "@jupyter-widgets/controls",
      "model_module_version": "2.0.0",
      "model_name": "HBoxModel",
      "state": {
       "_dom_classes": [],
       "_model_module": "@jupyter-widgets/controls",
       "_model_module_version": "2.0.0",
       "_model_name": "HBoxModel",
       "_view_count": null,
       "_view_module": "@jupyter-widgets/controls",
       "_view_module_version": "2.0.0",
       "_view_name": "HBoxView",
       "box_style": "",
       "children": [
        "IPY_MODEL_968c91c91d9d4ae6b7d1ef9631e918f6",
        "IPY_MODEL_546b9c5977014234b25540ed6944265b",
        "IPY_MODEL_b649ed1399514aada53e9e3af9118572"
       ],
       "layout": "IPY_MODEL_c831fc94e44f4415a6f519a8a7dafe4e",
       "tabbable": null,
       "tooltip": null
      }
     },
     "0abd5926040d41fea4f02bb173267876": {
      "model_module": "@jupyter-widgets/controls",
      "model_module_version": "2.0.0",
      "model_name": "HTMLModel",
      "state": {
       "_dom_classes": [],
       "_model_module": "@jupyter-widgets/controls",
       "_model_module_version": "2.0.0",
       "_model_name": "HTMLModel",
       "_view_count": null,
       "_view_module": "@jupyter-widgets/controls",
       "_view_module_version": "2.0.0",
       "_view_name": "HTMLView",
       "description": "",
       "description_allow_html": false,
       "layout": "IPY_MODEL_99ab86bd11b745a0a70bd2b251578fee",
       "placeholder": "​",
       "style": "IPY_MODEL_26395e0f910749c88b6f895f9ccf248c",
       "tabbable": null,
       "tooltip": null,
       "value": "tokenizer.json: 100%"
      }
     },
     "1718c6e7dc0640479d5556e0eb551229": {
      "model_module": "@jupyter-widgets/base",
      "model_module_version": "2.0.0",
      "model_name": "LayoutModel",
      "state": {
       "_model_module": "@jupyter-widgets/base",
       "_model_module_version": "2.0.0",
       "_model_name": "LayoutModel",
       "_view_count": null,
       "_view_module": "@jupyter-widgets/base",
       "_view_module_version": "2.0.0",
       "_view_name": "LayoutView",
       "align_content": null,
       "align_items": null,
       "align_self": null,
       "border_bottom": null,
       "border_left": null,
       "border_right": null,
       "border_top": null,
       "bottom": null,
       "display": null,
       "flex": null,
       "flex_flow": null,
       "grid_area": null,
       "grid_auto_columns": null,
       "grid_auto_flow": null,
       "grid_auto_rows": null,
       "grid_column": null,
       "grid_gap": null,
       "grid_row": null,
       "grid_template_areas": null,
       "grid_template_columns": null,
       "grid_template_rows": null,
       "height": null,
       "justify_content": null,
       "justify_items": null,
       "left": null,
       "margin": null,
       "max_height": null,
       "max_width": null,
       "min_height": null,
       "min_width": null,
       "object_fit": null,
       "object_position": null,
       "order": null,
       "overflow": null,
       "padding": null,
       "right": null,
       "top": null,
       "visibility": null,
       "width": null
      }
     },
     "20c2bf0f118c4df1aab057cfee450b79": {
      "model_module": "@jupyter-widgets/controls",
      "model_module_version": "2.0.0",
      "model_name": "FloatProgressModel",
      "state": {
       "_dom_classes": [],
       "_model_module": "@jupyter-widgets/controls",
       "_model_module_version": "2.0.0",
       "_model_name": "FloatProgressModel",
       "_view_count": null,
       "_view_module": "@jupyter-widgets/controls",
       "_view_module_version": "2.0.0",
       "_view_name": "ProgressView",
       "bar_style": "success",
       "description": "",
       "description_allow_html": false,
       "layout": "IPY_MODEL_1718c6e7dc0640479d5556e0eb551229",
       "max": 3132320.0,
       "min": 0.0,
       "orientation": "horizontal",
       "style": "IPY_MODEL_a0110b3be03048f881f360548ad87a97",
       "tabbable": null,
       "tooltip": null,
       "value": 3132320.0
      }
     },
     "26395e0f910749c88b6f895f9ccf248c": {
      "model_module": "@jupyter-widgets/controls",
      "model_module_version": "2.0.0",
      "model_name": "HTMLStyleModel",
      "state": {
       "_model_module": "@jupyter-widgets/controls",
       "_model_module_version": "2.0.0",
       "_model_name": "HTMLStyleModel",
       "_view_count": null,
       "_view_module": "@jupyter-widgets/base",
       "_view_module_version": "2.0.0",
       "_view_name": "StyleView",
       "background": null,
       "description_width": "",
       "font_size": null,
       "text_color": null
      }
     },
     "2875b4c72cfd413190a445b8f974f076": {
      "model_module": "@jupyter-widgets/controls",
      "model_module_version": "2.0.0",
      "model_name": "HTMLModel",
      "state": {
       "_dom_classes": [],
       "_model_module": "@jupyter-widgets/controls",
       "_model_module_version": "2.0.0",
       "_model_name": "HTMLModel",
       "_view_count": null,
       "_view_module": "@jupyter-widgets/controls",
       "_view_module_version": "2.0.0",
       "_view_name": "HTMLView",
       "description": "",
       "description_allow_html": false,
       "layout": "IPY_MODEL_c9af634a725e41b6b788643ddbe9cf50",
       "placeholder": "​",
       "style": "IPY_MODEL_d1fdb78fa7664fcd87104dd9491f2b56",
       "tabbable": null,
       "tooltip": null,
       "value": "bpe.codes: 100%"
      }
     },
     "2c905e38d15240da820d7083f9a7fd65": {
      "model_module": "@jupyter-widgets/base",
      "model_module_version": "2.0.0",
      "model_name": "LayoutModel",
      "state": {
       "_model_module": "@jupyter-widgets/base",
       "_model_module_version": "2.0.0",
       "_model_name": "LayoutModel",
       "_view_count": null,
       "_view_module": "@jupyter-widgets/base",
       "_view_module_version": "2.0.0",
       "_view_name": "LayoutView",
       "align_content": null,
       "align_items": null,
       "align_self": null,
       "border_bottom": null,
       "border_left": null,
       "border_right": null,
       "border_top": null,
       "bottom": null,
       "display": null,
       "flex": null,
       "flex_flow": null,
       "grid_area": null,
       "grid_auto_columns": null,
       "grid_auto_flow": null,
       "grid_auto_rows": null,
       "grid_column": null,
       "grid_gap": null,
       "grid_row": null,
       "grid_template_areas": null,
       "grid_template_columns": null,
       "grid_template_rows": null,
       "height": null,
       "justify_content": null,
       "justify_items": null,
       "left": null,
       "margin": null,
       "max_height": null,
       "max_width": null,
       "min_height": null,
       "min_width": null,
       "object_fit": null,
       "object_position": null,
       "order": null,
       "overflow": null,
       "padding": null,
       "right": null,
       "top": null,
       "visibility": null,
       "width": null
      }
     },
     "346778d823704ca9a3e6959662589a8a": {
      "model_module": "@jupyter-widgets/base",
      "model_module_version": "2.0.0",
      "model_name": "LayoutModel",
      "state": {
       "_model_module": "@jupyter-widgets/base",
       "_model_module_version": "2.0.0",
       "_model_name": "LayoutModel",
       "_view_count": null,
       "_view_module": "@jupyter-widgets/base",
       "_view_module_version": "2.0.0",
       "_view_name": "LayoutView",
       "align_content": null,
       "align_items": null,
       "align_self": null,
       "border_bottom": null,
       "border_left": null,
       "border_right": null,
       "border_top": null,
       "bottom": null,
       "display": null,
       "flex": null,
       "flex_flow": null,
       "grid_area": null,
       "grid_auto_columns": null,
       "grid_auto_flow": null,
       "grid_auto_rows": null,
       "grid_column": null,
       "grid_gap": null,
       "grid_row": null,
       "grid_template_areas": null,
       "grid_template_columns": null,
       "grid_template_rows": null,
       "height": null,
       "justify_content": null,
       "justify_items": null,
       "left": null,
       "margin": null,
       "max_height": null,
       "max_width": null,
       "min_height": null,
       "min_width": null,
       "object_fit": null,
       "object_position": null,
       "order": null,
       "overflow": null,
       "padding": null,
       "right": null,
       "top": null,
       "visibility": null,
       "width": null
      }
     },
     "3d6adffa81bc4b6abe17e5df10b272ad": {
      "model_module": "@jupyter-widgets/controls",
      "model_module_version": "2.0.0",
      "model_name": "HBoxModel",
      "state": {
       "_dom_classes": [],
       "_model_module": "@jupyter-widgets/controls",
       "_model_module_version": "2.0.0",
       "_model_name": "HBoxModel",
       "_view_count": null,
       "_view_module": "@jupyter-widgets/controls",
       "_view_module_version": "2.0.0",
       "_view_name": "HBoxView",
       "box_style": "",
       "children": [
        "IPY_MODEL_49743c0e9d674fcaa713a70aa8ff2b75",
        "IPY_MODEL_7f4f275940344957a1d6892350f970fa",
        "IPY_MODEL_bbf0010137164fb6931180dc6ab1f6ef"
       ],
       "layout": "IPY_MODEL_9b462f97dd6b475d923f1661a2de8a10",
       "tabbable": null,
       "tooltip": null
      }
     },
     "49743c0e9d674fcaa713a70aa8ff2b75": {
      "model_module": "@jupyter-widgets/controls",
      "model_module_version": "2.0.0",
      "model_name": "HTMLModel",
      "state": {
       "_dom_classes": [],
       "_model_module": "@jupyter-widgets/controls",
       "_model_module_version": "2.0.0",
       "_model_name": "HTMLModel",
       "_view_count": null,
       "_view_module": "@jupyter-widgets/controls",
       "_view_module_version": "2.0.0",
       "_view_name": "HTMLView",
       "description": "",
       "description_allow_html": false,
       "layout": "IPY_MODEL_d4d2c421f4de4bd2b98767da31b39cda",
       "placeholder": "​",
       "style": "IPY_MODEL_a5cad75f5bcb46b3918cedfd37d97f60",
       "tabbable": null,
       "tooltip": null,
       "value": "pytorch_model.bin: 100%"
      }
     },
     "4d4a25dac1424236a8fad483a5a83810": {
      "model_module": "@jupyter-widgets/controls",
      "model_module_version": "2.0.0",
      "model_name": "HTMLModel",
      "state": {
       "_dom_classes": [],
       "_model_module": "@jupyter-widgets/controls",
       "_model_module_version": "2.0.0",
       "_model_name": "HTMLModel",
       "_view_count": null,
       "_view_module": "@jupyter-widgets/controls",
       "_view_module_version": "2.0.0",
       "_view_name": "HTMLView",
       "description": "",
       "description_allow_html": false,
       "layout": "IPY_MODEL_e04fae14227d450da9097b50a750978d",
       "placeholder": "​",
       "style": "IPY_MODEL_eab3337be8cd4a208319b9b22c969cfc",
       "tabbable": null,
       "tooltip": null,
       "value": "config.json: 100%"
      }
     },
     "4f9234b315b54a518d3e3fc8e34091a1": {
      "model_module": "@jupyter-widgets/base",
      "model_module_version": "2.0.0",
      "model_name": "LayoutModel",
      "state": {
       "_model_module": "@jupyter-widgets/base",
       "_model_module_version": "2.0.0",
       "_model_name": "LayoutModel",
       "_view_count": null,
       "_view_module": "@jupyter-widgets/base",
       "_view_module_version": "2.0.0",
       "_view_name": "LayoutView",
       "align_content": null,
       "align_items": null,
       "align_self": null,
       "border_bottom": null,
       "border_left": null,
       "border_right": null,
       "border_top": null,
       "bottom": null,
       "display": null,
       "flex": null,
       "flex_flow": null,
       "grid_area": null,
       "grid_auto_columns": null,
       "grid_auto_flow": null,
       "grid_auto_rows": null,
       "grid_column": null,
       "grid_gap": null,
       "grid_row": null,
       "grid_template_areas": null,
       "grid_template_columns": null,
       "grid_template_rows": null,
       "height": null,
       "justify_content": null,
       "justify_items": null,
       "left": null,
       "margin": null,
       "max_height": null,
       "max_width": null,
       "min_height": null,
       "min_width": null,
       "object_fit": null,
       "object_position": null,
       "order": null,
       "overflow": null,
       "padding": null,
       "right": null,
       "top": null,
       "visibility": null,
       "width": null
      }
     },
     "5025f6ba0e79446fb23b6ed96b5ee717": {
      "model_module": "@jupyter-widgets/controls",
      "model_module_version": "2.0.0",
      "model_name": "HTMLModel",
      "state": {
       "_dom_classes": [],
       "_model_module": "@jupyter-widgets/controls",
       "_model_module_version": "2.0.0",
       "_model_name": "HTMLModel",
       "_view_count": null,
       "_view_module": "@jupyter-widgets/controls",
       "_view_module_version": "2.0.0",
       "_view_name": "HTMLView",
       "description": "",
       "description_allow_html": false,
       "layout": "IPY_MODEL_346778d823704ca9a3e6959662589a8a",
       "placeholder": "​",
       "style": "IPY_MODEL_cb893d5a865547cdbb87b325b87852b0",
       "tabbable": null,
       "tooltip": null,
       "value": " 1.14M/1.14M [00:00&lt;00:00, 1.63MB/s]"
      }
     },
     "53bc91e098fd4efe94ba4d3ec6784d01": {
      "model_module": "@jupyter-widgets/controls",
      "model_module_version": "2.0.0",
      "model_name": "HTMLStyleModel",
      "state": {
       "_model_module": "@jupyter-widgets/controls",
       "_model_module_version": "2.0.0",
       "_model_name": "HTMLStyleModel",
       "_view_count": null,
       "_view_module": "@jupyter-widgets/base",
       "_view_module_version": "2.0.0",
       "_view_name": "StyleView",
       "background": null,
       "description_width": "",
       "font_size": null,
       "text_color": null
      }
     },
     "546b9c5977014234b25540ed6944265b": {
      "model_module": "@jupyter-widgets/controls",
      "model_module_version": "2.0.0",
      "model_name": "FloatProgressModel",
      "state": {
       "_dom_classes": [],
       "_model_module": "@jupyter-widgets/controls",
       "_model_module_version": "2.0.0",
       "_model_name": "FloatProgressModel",
       "_view_count": null,
       "_view_module": "@jupyter-widgets/controls",
       "_view_module_version": "2.0.0",
       "_view_name": "ProgressView",
       "bar_style": "success",
       "description": "",
       "description_allow_html": false,
       "layout": "IPY_MODEL_09ae43cb18e742f9b57c4b61f0033cbc",
       "max": 895321.0,
       "min": 0.0,
       "orientation": "horizontal",
       "style": "IPY_MODEL_e233ef3dac00425cbbe924940aa1a00f",
       "tabbable": null,
       "tooltip": null,
       "value": 895321.0
      }
     },
     "58b6e7b4f09b44b1b61d06b87c9c80cd": {
      "model_module": "@jupyter-widgets/controls",
      "model_module_version": "2.0.0",
      "model_name": "HTMLModel",
      "state": {
       "_dom_classes": [],
       "_model_module": "@jupyter-widgets/controls",
       "_model_module_version": "2.0.0",
       "_model_name": "HTMLModel",
       "_view_count": null,
       "_view_module": "@jupyter-widgets/controls",
       "_view_module_version": "2.0.0",
       "_view_name": "HTMLView",
       "description": "",
       "description_allow_html": false,
       "layout": "IPY_MODEL_efc044f8c2ab4478ac0dea942a46cee5",
       "placeholder": "​",
       "style": "IPY_MODEL_75605b085eb9479daa964e365fc4f923",
       "tabbable": null,
       "tooltip": null,
       "value": " 3.13M/3.13M [00:00&lt;00:00, 3.60MB/s]"
      }
     },
     "62a638c045e34efc9933caf5dcec1b70": {
      "model_module": "@jupyter-widgets/controls",
      "model_module_version": "2.0.0",
      "model_name": "ProgressStyleModel",
      "state": {
       "_model_module": "@jupyter-widgets/controls",
       "_model_module_version": "2.0.0",
       "_model_name": "ProgressStyleModel",
       "_view_count": null,
       "_view_module": "@jupyter-widgets/base",
       "_view_module_version": "2.0.0",
       "_view_name": "StyleView",
       "bar_color": null,
       "description_width": ""
      }
     },
     "668a49b09db445869319d7f3be8c3e03": {
      "model_module": "@jupyter-widgets/controls",
      "model_module_version": "2.0.0",
      "model_name": "FloatProgressModel",
      "state": {
       "_dom_classes": [],
       "_model_module": "@jupyter-widgets/controls",
       "_model_module_version": "2.0.0",
       "_model_name": "FloatProgressModel",
       "_view_count": null,
       "_view_module": "@jupyter-widgets/controls",
       "_view_module_version": "2.0.0",
       "_view_name": "ProgressView",
       "bar_style": "success",
       "description": "",
       "description_allow_html": false,
       "layout": "IPY_MODEL_ffc0133e47ab49a3a1d310629d326257",
       "max": 557.0,
       "min": 0.0,
       "orientation": "horizontal",
       "style": "IPY_MODEL_e64128bcc1df486597a00fea24a8efba",
       "tabbable": null,
       "tooltip": null,
       "value": 557.0
      }
     },
     "75605b085eb9479daa964e365fc4f923": {
      "model_module": "@jupyter-widgets/controls",
      "model_module_version": "2.0.0",
      "model_name": "HTMLStyleModel",
      "state": {
       "_model_module": "@jupyter-widgets/controls",
       "_model_module_version": "2.0.0",
       "_model_name": "HTMLStyleModel",
       "_view_count": null,
       "_view_module": "@jupyter-widgets/base",
       "_view_module_version": "2.0.0",
       "_view_name": "StyleView",
       "background": null,
       "description_width": "",
       "font_size": null,
       "text_color": null
      }
     },
     "76476dea682c45b093275cb07d027f48": {
      "model_module": "@jupyter-widgets/controls",
      "model_module_version": "2.0.0",
      "model_name": "ProgressStyleModel",
      "state": {
       "_model_module": "@jupyter-widgets/controls",
       "_model_module_version": "2.0.0",
       "_model_name": "ProgressStyleModel",
       "_view_count": null,
       "_view_module": "@jupyter-widgets/base",
       "_view_module_version": "2.0.0",
       "_view_name": "StyleView",
       "bar_color": null,
       "description_width": ""
      }
     },
     "7f4f275940344957a1d6892350f970fa": {
      "model_module": "@jupyter-widgets/controls",
      "model_module_version": "2.0.0",
      "model_name": "FloatProgressModel",
      "state": {
       "_dom_classes": [],
       "_model_module": "@jupyter-widgets/controls",
       "_model_module_version": "2.0.0",
       "_model_name": "FloatProgressModel",
       "_view_count": null,
       "_view_module": "@jupyter-widgets/controls",
       "_view_module_version": "2.0.0",
       "_view_name": "ProgressView",
       "bar_style": "success",
       "description": "",
       "description_allow_html": false,
       "layout": "IPY_MODEL_2c905e38d15240da820d7083f9a7fd65",
       "max": 542923308.0,
       "min": 0.0,
       "orientation": "horizontal",
       "style": "IPY_MODEL_76476dea682c45b093275cb07d027f48",
       "tabbable": null,
       "tooltip": null,
       "value": 542923308.0
      }
     },
     "822741e7f19e45738035aaf3343dbe27": {
      "model_module": "@jupyter-widgets/controls",
      "model_module_version": "2.0.0",
      "model_name": "HBoxModel",
      "state": {
       "_dom_classes": [],
       "_model_module": "@jupyter-widgets/controls",
       "_model_module_version": "2.0.0",
       "_model_name": "HBoxModel",
       "_view_count": null,
       "_view_module": "@jupyter-widgets/controls",
       "_view_module_version": "2.0.0",
       "_view_name": "HBoxView",
       "box_style": "",
       "children": [
        "IPY_MODEL_0abd5926040d41fea4f02bb173267876",
        "IPY_MODEL_20c2bf0f118c4df1aab057cfee450b79",
        "IPY_MODEL_58b6e7b4f09b44b1b61d06b87c9c80cd"
       ],
       "layout": "IPY_MODEL_a2eba3402c6843aca178eb53f9144933",
       "tabbable": null,
       "tooltip": null
      }
     },
     "94877fd695c7417999965141aa6342c5": {
      "model_module": "@jupyter-widgets/base",
      "model_module_version": "2.0.0",
      "model_name": "LayoutModel",
      "state": {
       "_model_module": "@jupyter-widgets/base",
       "_model_module_version": "2.0.0",
       "_model_name": "LayoutModel",
       "_view_count": null,
       "_view_module": "@jupyter-widgets/base",
       "_view_module_version": "2.0.0",
       "_view_name": "LayoutView",
       "align_content": null,
       "align_items": null,
       "align_self": null,
       "border_bottom": null,
       "border_left": null,
       "border_right": null,
       "border_top": null,
       "bottom": null,
       "display": null,
       "flex": null,
       "flex_flow": null,
       "grid_area": null,
       "grid_auto_columns": null,
       "grid_auto_flow": null,
       "grid_auto_rows": null,
       "grid_column": null,
       "grid_gap": null,
       "grid_row": null,
       "grid_template_areas": null,
       "grid_template_columns": null,
       "grid_template_rows": null,
       "height": null,
       "justify_content": null,
       "justify_items": null,
       "left": null,
       "margin": null,
       "max_height": null,
       "max_width": null,
       "min_height": null,
       "min_width": null,
       "object_fit": null,
       "object_position": null,
       "order": null,
       "overflow": null,
       "padding": null,
       "right": null,
       "top": null,
       "visibility": null,
       "width": null
      }
     },
     "968c91c91d9d4ae6b7d1ef9631e918f6": {
      "model_module": "@jupyter-widgets/controls",
      "model_module_version": "2.0.0",
      "model_name": "HTMLModel",
      "state": {
       "_dom_classes": [],
       "_model_module": "@jupyter-widgets/controls",
       "_model_module_version": "2.0.0",
       "_model_name": "HTMLModel",
       "_view_count": null,
       "_view_module": "@jupyter-widgets/controls",
       "_view_module_version": "2.0.0",
       "_view_name": "HTMLView",
       "description": "",
       "description_allow_html": false,
       "layout": "IPY_MODEL_d28e47dfeefb4ca999ec637a1f3d5779",
       "placeholder": "​",
       "style": "IPY_MODEL_53bc91e098fd4efe94ba4d3ec6784d01",
       "tabbable": null,
       "tooltip": null,
       "value": "vocab.txt: 100%"
      }
     },
     "99ab86bd11b745a0a70bd2b251578fee": {
      "model_module": "@jupyter-widgets/base",
      "model_module_version": "2.0.0",
      "model_name": "LayoutModel",
      "state": {
       "_model_module": "@jupyter-widgets/base",
       "_model_module_version": "2.0.0",
       "_model_name": "LayoutModel",
       "_view_count": null,
       "_view_module": "@jupyter-widgets/base",
       "_view_module_version": "2.0.0",
       "_view_name": "LayoutView",
       "align_content": null,
       "align_items": null,
       "align_self": null,
       "border_bottom": null,
       "border_left": null,
       "border_right": null,
       "border_top": null,
       "bottom": null,
       "display": null,
       "flex": null,
       "flex_flow": null,
       "grid_area": null,
       "grid_auto_columns": null,
       "grid_auto_flow": null,
       "grid_auto_rows": null,
       "grid_column": null,
       "grid_gap": null,
       "grid_row": null,
       "grid_template_areas": null,
       "grid_template_columns": null,
       "grid_template_rows": null,
       "height": null,
       "justify_content": null,
       "justify_items": null,
       "left": null,
       "margin": null,
       "max_height": null,
       "max_width": null,
       "min_height": null,
       "min_width": null,
       "object_fit": null,
       "object_position": null,
       "order": null,
       "overflow": null,
       "padding": null,
       "right": null,
       "top": null,
       "visibility": null,
       "width": null
      }
     },
     "9b462f97dd6b475d923f1661a2de8a10": {
      "model_module": "@jupyter-widgets/base",
      "model_module_version": "2.0.0",
      "model_name": "LayoutModel",
      "state": {
       "_model_module": "@jupyter-widgets/base",
       "_model_module_version": "2.0.0",
       "_model_name": "LayoutModel",
       "_view_count": null,
       "_view_module": "@jupyter-widgets/base",
       "_view_module_version": "2.0.0",
       "_view_name": "LayoutView",
       "align_content": null,
       "align_items": null,
       "align_self": null,
       "border_bottom": null,
       "border_left": null,
       "border_right": null,
       "border_top": null,
       "bottom": null,
       "display": null,
       "flex": null,
       "flex_flow": null,
       "grid_area": null,
       "grid_auto_columns": null,
       "grid_auto_flow": null,
       "grid_auto_rows": null,
       "grid_column": null,
       "grid_gap": null,
       "grid_row": null,
       "grid_template_areas": null,
       "grid_template_columns": null,
       "grid_template_rows": null,
       "height": null,
       "justify_content": null,
       "justify_items": null,
       "left": null,
       "margin": null,
       "max_height": null,
       "max_width": null,
       "min_height": null,
       "min_width": null,
       "object_fit": null,
       "object_position": null,
       "order": null,
       "overflow": null,
       "padding": null,
       "right": null,
       "top": null,
       "visibility": null,
       "width": null
      }
     },
     "a0110b3be03048f881f360548ad87a97": {
      "model_module": "@jupyter-widgets/controls",
      "model_module_version": "2.0.0",
      "model_name": "ProgressStyleModel",
      "state": {
       "_model_module": "@jupyter-widgets/controls",
       "_model_module_version": "2.0.0",
       "_model_name": "ProgressStyleModel",
       "_view_count": null,
       "_view_module": "@jupyter-widgets/base",
       "_view_module_version": "2.0.0",
       "_view_name": "StyleView",
       "bar_color": null,
       "description_width": ""
      }
     },
     "a2eba3402c6843aca178eb53f9144933": {
      "model_module": "@jupyter-widgets/base",
      "model_module_version": "2.0.0",
      "model_name": "LayoutModel",
      "state": {
       "_model_module": "@jupyter-widgets/base",
       "_model_module_version": "2.0.0",
       "_model_name": "LayoutModel",
       "_view_count": null,
       "_view_module": "@jupyter-widgets/base",
       "_view_module_version": "2.0.0",
       "_view_name": "LayoutView",
       "align_content": null,
       "align_items": null,
       "align_self": null,
       "border_bottom": null,
       "border_left": null,
       "border_right": null,
       "border_top": null,
       "bottom": null,
       "display": null,
       "flex": null,
       "flex_flow": null,
       "grid_area": null,
       "grid_auto_columns": null,
       "grid_auto_flow": null,
       "grid_auto_rows": null,
       "grid_column": null,
       "grid_gap": null,
       "grid_row": null,
       "grid_template_areas": null,
       "grid_template_columns": null,
       "grid_template_rows": null,
       "height": null,
       "justify_content": null,
       "justify_items": null,
       "left": null,
       "margin": null,
       "max_height": null,
       "max_width": null,
       "min_height": null,
       "min_width": null,
       "object_fit": null,
       "object_position": null,
       "order": null,
       "overflow": null,
       "padding": null,
       "right": null,
       "top": null,
       "visibility": null,
       "width": null
      }
     },
     "a5cad75f5bcb46b3918cedfd37d97f60": {
      "model_module": "@jupyter-widgets/controls",
      "model_module_version": "2.0.0",
      "model_name": "HTMLStyleModel",
      "state": {
       "_model_module": "@jupyter-widgets/controls",
       "_model_module_version": "2.0.0",
       "_model_name": "HTMLStyleModel",
       "_view_count": null,
       "_view_module": "@jupyter-widgets/base",
       "_view_module_version": "2.0.0",
       "_view_name": "StyleView",
       "background": null,
       "description_width": "",
       "font_size": null,
       "text_color": null
      }
     },
     "a81cd5a9364b4b02ad9f020bd8521dc9": {
      "model_module": "@jupyter-widgets/base",
      "model_module_version": "2.0.0",
      "model_name": "LayoutModel",
      "state": {
       "_model_module": "@jupyter-widgets/base",
       "_model_module_version": "2.0.0",
       "_model_name": "LayoutModel",
       "_view_count": null,
       "_view_module": "@jupyter-widgets/base",
       "_view_module_version": "2.0.0",
       "_view_name": "LayoutView",
       "align_content": null,
       "align_items": null,
       "align_self": null,
       "border_bottom": null,
       "border_left": null,
       "border_right": null,
       "border_top": null,
       "bottom": null,
       "display": null,
       "flex": null,
       "flex_flow": null,
       "grid_area": null,
       "grid_auto_columns": null,
       "grid_auto_flow": null,
       "grid_auto_rows": null,
       "grid_column": null,
       "grid_gap": null,
       "grid_row": null,
       "grid_template_areas": null,
       "grid_template_columns": null,
       "grid_template_rows": null,
       "height": null,
       "justify_content": null,
       "justify_items": null,
       "left": null,
       "margin": null,
       "max_height": null,
       "max_width": null,
       "min_height": null,
       "min_width": null,
       "object_fit": null,
       "object_position": null,
       "order": null,
       "overflow": null,
       "padding": null,
       "right": null,
       "top": null,
       "visibility": null,
       "width": null
      }
     },
     "b649ed1399514aada53e9e3af9118572": {
      "model_module": "@jupyter-widgets/controls",
      "model_module_version": "2.0.0",
      "model_name": "HTMLModel",
      "state": {
       "_dom_classes": [],
       "_model_module": "@jupyter-widgets/controls",
       "_model_module_version": "2.0.0",
       "_model_name": "HTMLModel",
       "_view_count": null,
       "_view_module": "@jupyter-widgets/controls",
       "_view_module_version": "2.0.0",
       "_view_name": "HTMLView",
       "description": "",
       "description_allow_html": false,
       "layout": "IPY_MODEL_94877fd695c7417999965141aa6342c5",
       "placeholder": "​",
       "style": "IPY_MODEL_eca6884b479844458bc78dc50f49fabd",
       "tabbable": null,
       "tooltip": null,
       "value": " 895k/895k [00:00&lt;00:00, 1.67MB/s]"
      }
     },
     "bbf0010137164fb6931180dc6ab1f6ef": {
      "model_module": "@jupyter-widgets/controls",
      "model_module_version": "2.0.0",
      "model_name": "HTMLModel",
      "state": {
       "_dom_classes": [],
       "_model_module": "@jupyter-widgets/controls",
       "_model_module_version": "2.0.0",
       "_model_name": "HTMLModel",
       "_view_count": null,
       "_view_module": "@jupyter-widgets/controls",
       "_view_module_version": "2.0.0",
       "_view_name": "HTMLView",
       "description": "",
       "description_allow_html": false,
       "layout": "IPY_MODEL_a81cd5a9364b4b02ad9f020bd8521dc9",
       "placeholder": "​",
       "style": "IPY_MODEL_d37a40dd8b874adc808035a541f2bbd6",
       "tabbable": null,
       "tooltip": null,
       "value": " 543M/543M [00:01&lt;00:00, 364MB/s]"
      }
     },
     "c26cd14e4b5d4b208552ff877b8375ff": {
      "model_module": "@jupyter-widgets/controls",
      "model_module_version": "2.0.0",
      "model_name": "HTMLModel",
      "state": {
       "_dom_classes": [],
       "_model_module": "@jupyter-widgets/controls",
       "_model_module_version": "2.0.0",
       "_model_name": "HTMLModel",
       "_view_count": null,
       "_view_module": "@jupyter-widgets/controls",
       "_view_module_version": "2.0.0",
       "_view_name": "HTMLView",
       "description": "",
       "description_allow_html": false,
       "layout": "IPY_MODEL_ce0ab9db8652478fbaf5979de43b9fdb",
       "placeholder": "​",
       "style": "IPY_MODEL_c9a4b7a9f6644a38a70e6992efb87212",
       "tabbable": null,
       "tooltip": null,
       "value": " 557/557 [00:00&lt;00:00, 56.0kB/s]"
      }
     },
     "c831fc94e44f4415a6f519a8a7dafe4e": {
      "model_module": "@jupyter-widgets/base",
      "model_module_version": "2.0.0",
      "model_name": "LayoutModel",
      "state": {
       "_model_module": "@jupyter-widgets/base",
       "_model_module_version": "2.0.0",
       "_model_name": "LayoutModel",
       "_view_count": null,
       "_view_module": "@jupyter-widgets/base",
       "_view_module_version": "2.0.0",
       "_view_name": "LayoutView",
       "align_content": null,
       "align_items": null,
       "align_self": null,
       "border_bottom": null,
       "border_left": null,
       "border_right": null,
       "border_top": null,
       "bottom": null,
       "display": null,
       "flex": null,
       "flex_flow": null,
       "grid_area": null,
       "grid_auto_columns": null,
       "grid_auto_flow": null,
       "grid_auto_rows": null,
       "grid_column": null,
       "grid_gap": null,
       "grid_row": null,
       "grid_template_areas": null,
       "grid_template_columns": null,
       "grid_template_rows": null,
       "height": null,
       "justify_content": null,
       "justify_items": null,
       "left": null,
       "margin": null,
       "max_height": null,
       "max_width": null,
       "min_height": null,
       "min_width": null,
       "object_fit": null,
       "object_position": null,
       "order": null,
       "overflow": null,
       "padding": null,
       "right": null,
       "top": null,
       "visibility": null,
       "width": null
      }
     },
     "c9a4b7a9f6644a38a70e6992efb87212": {
      "model_module": "@jupyter-widgets/controls",
      "model_module_version": "2.0.0",
      "model_name": "HTMLStyleModel",
      "state": {
       "_model_module": "@jupyter-widgets/controls",
       "_model_module_version": "2.0.0",
       "_model_name": "HTMLStyleModel",
       "_view_count": null,
       "_view_module": "@jupyter-widgets/base",
       "_view_module_version": "2.0.0",
       "_view_name": "StyleView",
       "background": null,
       "description_width": "",
       "font_size": null,
       "text_color": null
      }
     },
     "c9af634a725e41b6b788643ddbe9cf50": {
      "model_module": "@jupyter-widgets/base",
      "model_module_version": "2.0.0",
      "model_name": "LayoutModel",
      "state": {
       "_model_module": "@jupyter-widgets/base",
       "_model_module_version": "2.0.0",
       "_model_name": "LayoutModel",
       "_view_count": null,
       "_view_module": "@jupyter-widgets/base",
       "_view_module_version": "2.0.0",
       "_view_name": "LayoutView",
       "align_content": null,
       "align_items": null,
       "align_self": null,
       "border_bottom": null,
       "border_left": null,
       "border_right": null,
       "border_top": null,
       "bottom": null,
       "display": null,
       "flex": null,
       "flex_flow": null,
       "grid_area": null,
       "grid_auto_columns": null,
       "grid_auto_flow": null,
       "grid_auto_rows": null,
       "grid_column": null,
       "grid_gap": null,
       "grid_row": null,
       "grid_template_areas": null,
       "grid_template_columns": null,
       "grid_template_rows": null,
       "height": null,
       "justify_content": null,
       "justify_items": null,
       "left": null,
       "margin": null,
       "max_height": null,
       "max_width": null,
       "min_height": null,
       "min_width": null,
       "object_fit": null,
       "object_position": null,
       "order": null,
       "overflow": null,
       "padding": null,
       "right": null,
       "top": null,
       "visibility": null,
       "width": null
      }
     },
     "cb893d5a865547cdbb87b325b87852b0": {
      "model_module": "@jupyter-widgets/controls",
      "model_module_version": "2.0.0",
      "model_name": "HTMLStyleModel",
      "state": {
       "_model_module": "@jupyter-widgets/controls",
       "_model_module_version": "2.0.0",
       "_model_name": "HTMLStyleModel",
       "_view_count": null,
       "_view_module": "@jupyter-widgets/base",
       "_view_module_version": "2.0.0",
       "_view_name": "StyleView",
       "background": null,
       "description_width": "",
       "font_size": null,
       "text_color": null
      }
     },
     "ce0ab9db8652478fbaf5979de43b9fdb": {
      "model_module": "@jupyter-widgets/base",
      "model_module_version": "2.0.0",
      "model_name": "LayoutModel",
      "state": {
       "_model_module": "@jupyter-widgets/base",
       "_model_module_version": "2.0.0",
       "_model_name": "LayoutModel",
       "_view_count": null,
       "_view_module": "@jupyter-widgets/base",
       "_view_module_version": "2.0.0",
       "_view_name": "LayoutView",
       "align_content": null,
       "align_items": null,
       "align_self": null,
       "border_bottom": null,
       "border_left": null,
       "border_right": null,
       "border_top": null,
       "bottom": null,
       "display": null,
       "flex": null,
       "flex_flow": null,
       "grid_area": null,
       "grid_auto_columns": null,
       "grid_auto_flow": null,
       "grid_auto_rows": null,
       "grid_column": null,
       "grid_gap": null,
       "grid_row": null,
       "grid_template_areas": null,
       "grid_template_columns": null,
       "grid_template_rows": null,
       "height": null,
       "justify_content": null,
       "justify_items": null,
       "left": null,
       "margin": null,
       "max_height": null,
       "max_width": null,
       "min_height": null,
       "min_width": null,
       "object_fit": null,
       "object_position": null,
       "order": null,
       "overflow": null,
       "padding": null,
       "right": null,
       "top": null,
       "visibility": null,
       "width": null
      }
     },
     "d1fdb78fa7664fcd87104dd9491f2b56": {
      "model_module": "@jupyter-widgets/controls",
      "model_module_version": "2.0.0",
      "model_name": "HTMLStyleModel",
      "state": {
       "_model_module": "@jupyter-widgets/controls",
       "_model_module_version": "2.0.0",
       "_model_name": "HTMLStyleModel",
       "_view_count": null,
       "_view_module": "@jupyter-widgets/base",
       "_view_module_version": "2.0.0",
       "_view_name": "StyleView",
       "background": null,
       "description_width": "",
       "font_size": null,
       "text_color": null
      }
     },
     "d2354b0fd0bd43b19df45df930d6d90b": {
      "model_module": "@jupyter-widgets/base",
      "model_module_version": "2.0.0",
      "model_name": "LayoutModel",
      "state": {
       "_model_module": "@jupyter-widgets/base",
       "_model_module_version": "2.0.0",
       "_model_name": "LayoutModel",
       "_view_count": null,
       "_view_module": "@jupyter-widgets/base",
       "_view_module_version": "2.0.0",
       "_view_name": "LayoutView",
       "align_content": null,
       "align_items": null,
       "align_self": null,
       "border_bottom": null,
       "border_left": null,
       "border_right": null,
       "border_top": null,
       "bottom": null,
       "display": null,
       "flex": null,
       "flex_flow": null,
       "grid_area": null,
       "grid_auto_columns": null,
       "grid_auto_flow": null,
       "grid_auto_rows": null,
       "grid_column": null,
       "grid_gap": null,
       "grid_row": null,
       "grid_template_areas": null,
       "grid_template_columns": null,
       "grid_template_rows": null,
       "height": null,
       "justify_content": null,
       "justify_items": null,
       "left": null,
       "margin": null,
       "max_height": null,
       "max_width": null,
       "min_height": null,
       "min_width": null,
       "object_fit": null,
       "object_position": null,
       "order": null,
       "overflow": null,
       "padding": null,
       "right": null,
       "top": null,
       "visibility": null,
       "width": null
      }
     },
     "d28e47dfeefb4ca999ec637a1f3d5779": {
      "model_module": "@jupyter-widgets/base",
      "model_module_version": "2.0.0",
      "model_name": "LayoutModel",
      "state": {
       "_model_module": "@jupyter-widgets/base",
       "_model_module_version": "2.0.0",
       "_model_name": "LayoutModel",
       "_view_count": null,
       "_view_module": "@jupyter-widgets/base",
       "_view_module_version": "2.0.0",
       "_view_name": "LayoutView",
       "align_content": null,
       "align_items": null,
       "align_self": null,
       "border_bottom": null,
       "border_left": null,
       "border_right": null,
       "border_top": null,
       "bottom": null,
       "display": null,
       "flex": null,
       "flex_flow": null,
       "grid_area": null,
       "grid_auto_columns": null,
       "grid_auto_flow": null,
       "grid_auto_rows": null,
       "grid_column": null,
       "grid_gap": null,
       "grid_row": null,
       "grid_template_areas": null,
       "grid_template_columns": null,
       "grid_template_rows": null,
       "height": null,
       "justify_content": null,
       "justify_items": null,
       "left": null,
       "margin": null,
       "max_height": null,
       "max_width": null,
       "min_height": null,
       "min_width": null,
       "object_fit": null,
       "object_position": null,
       "order": null,
       "overflow": null,
       "padding": null,
       "right": null,
       "top": null,
       "visibility": null,
       "width": null
      }
     },
     "d37a40dd8b874adc808035a541f2bbd6": {
      "model_module": "@jupyter-widgets/controls",
      "model_module_version": "2.0.0",
      "model_name": "HTMLStyleModel",
      "state": {
       "_model_module": "@jupyter-widgets/controls",
       "_model_module_version": "2.0.0",
       "_model_name": "HTMLStyleModel",
       "_view_count": null,
       "_view_module": "@jupyter-widgets/base",
       "_view_module_version": "2.0.0",
       "_view_name": "StyleView",
       "background": null,
       "description_width": "",
       "font_size": null,
       "text_color": null
      }
     },
     "d4d2c421f4de4bd2b98767da31b39cda": {
      "model_module": "@jupyter-widgets/base",
      "model_module_version": "2.0.0",
      "model_name": "LayoutModel",
      "state": {
       "_model_module": "@jupyter-widgets/base",
       "_model_module_version": "2.0.0",
       "_model_name": "LayoutModel",
       "_view_count": null,
       "_view_module": "@jupyter-widgets/base",
       "_view_module_version": "2.0.0",
       "_view_name": "LayoutView",
       "align_content": null,
       "align_items": null,
       "align_self": null,
       "border_bottom": null,
       "border_left": null,
       "border_right": null,
       "border_top": null,
       "bottom": null,
       "display": null,
       "flex": null,
       "flex_flow": null,
       "grid_area": null,
       "grid_auto_columns": null,
       "grid_auto_flow": null,
       "grid_auto_rows": null,
       "grid_column": null,
       "grid_gap": null,
       "grid_row": null,
       "grid_template_areas": null,
       "grid_template_columns": null,
       "grid_template_rows": null,
       "height": null,
       "justify_content": null,
       "justify_items": null,
       "left": null,
       "margin": null,
       "max_height": null,
       "max_width": null,
       "min_height": null,
       "min_width": null,
       "object_fit": null,
       "object_position": null,
       "order": null,
       "overflow": null,
       "padding": null,
       "right": null,
       "top": null,
       "visibility": null,
       "width": null
      }
     },
     "d9f02003be674f02a3f81fbe2d720eeb": {
      "model_module": "@jupyter-widgets/base",
      "model_module_version": "2.0.0",
      "model_name": "LayoutModel",
      "state": {
       "_model_module": "@jupyter-widgets/base",
       "_model_module_version": "2.0.0",
       "_model_name": "LayoutModel",
       "_view_count": null,
       "_view_module": "@jupyter-widgets/base",
       "_view_module_version": "2.0.0",
       "_view_name": "LayoutView",
       "align_content": null,
       "align_items": null,
       "align_self": null,
       "border_bottom": null,
       "border_left": null,
       "border_right": null,
       "border_top": null,
       "bottom": null,
       "display": null,
       "flex": null,
       "flex_flow": null,
       "grid_area": null,
       "grid_auto_columns": null,
       "grid_auto_flow": null,
       "grid_auto_rows": null,
       "grid_column": null,
       "grid_gap": null,
       "grid_row": null,
       "grid_template_areas": null,
       "grid_template_columns": null,
       "grid_template_rows": null,
       "height": null,
       "justify_content": null,
       "justify_items": null,
       "left": null,
       "margin": null,
       "max_height": null,
       "max_width": null,
       "min_height": null,
       "min_width": null,
       "object_fit": null,
       "object_position": null,
       "order": null,
       "overflow": null,
       "padding": null,
       "right": null,
       "top": null,
       "visibility": null,
       "width": null
      }
     },
     "dc99ec0b22d04afc9111545a24b95ca1": {
      "model_module": "@jupyter-widgets/controls",
      "model_module_version": "2.0.0",
      "model_name": "HBoxModel",
      "state": {
       "_dom_classes": [],
       "_model_module": "@jupyter-widgets/controls",
       "_model_module_version": "2.0.0",
       "_model_name": "HBoxModel",
       "_view_count": null,
       "_view_module": "@jupyter-widgets/controls",
       "_view_module_version": "2.0.0",
       "_view_name": "HBoxView",
       "box_style": "",
       "children": [
        "IPY_MODEL_2875b4c72cfd413190a445b8f974f076",
        "IPY_MODEL_e8c95d5e388549c6a8b8112bcc16bc43",
        "IPY_MODEL_5025f6ba0e79446fb23b6ed96b5ee717"
       ],
       "layout": "IPY_MODEL_d9f02003be674f02a3f81fbe2d720eeb",
       "tabbable": null,
       "tooltip": null
      }
     },
     "e04fae14227d450da9097b50a750978d": {
      "model_module": "@jupyter-widgets/base",
      "model_module_version": "2.0.0",
      "model_name": "LayoutModel",
      "state": {
       "_model_module": "@jupyter-widgets/base",
       "_model_module_version": "2.0.0",
       "_model_name": "LayoutModel",
       "_view_count": null,
       "_view_module": "@jupyter-widgets/base",
       "_view_module_version": "2.0.0",
       "_view_name": "LayoutView",
       "align_content": null,
       "align_items": null,
       "align_self": null,
       "border_bottom": null,
       "border_left": null,
       "border_right": null,
       "border_top": null,
       "bottom": null,
       "display": null,
       "flex": null,
       "flex_flow": null,
       "grid_area": null,
       "grid_auto_columns": null,
       "grid_auto_flow": null,
       "grid_auto_rows": null,
       "grid_column": null,
       "grid_gap": null,
       "grid_row": null,
       "grid_template_areas": null,
       "grid_template_columns": null,
       "grid_template_rows": null,
       "height": null,
       "justify_content": null,
       "justify_items": null,
       "left": null,
       "margin": null,
       "max_height": null,
       "max_width": null,
       "min_height": null,
       "min_width": null,
       "object_fit": null,
       "object_position": null,
       "order": null,
       "overflow": null,
       "padding": null,
       "right": null,
       "top": null,
       "visibility": null,
       "width": null
      }
     },
     "e233ef3dac00425cbbe924940aa1a00f": {
      "model_module": "@jupyter-widgets/controls",
      "model_module_version": "2.0.0",
      "model_name": "ProgressStyleModel",
      "state": {
       "_model_module": "@jupyter-widgets/controls",
       "_model_module_version": "2.0.0",
       "_model_name": "ProgressStyleModel",
       "_view_count": null,
       "_view_module": "@jupyter-widgets/base",
       "_view_module_version": "2.0.0",
       "_view_name": "StyleView",
       "bar_color": null,
       "description_width": ""
      }
     },
     "e64128bcc1df486597a00fea24a8efba": {
      "model_module": "@jupyter-widgets/controls",
      "model_module_version": "2.0.0",
      "model_name": "ProgressStyleModel",
      "state": {
       "_model_module": "@jupyter-widgets/controls",
       "_model_module_version": "2.0.0",
       "_model_name": "ProgressStyleModel",
       "_view_count": null,
       "_view_module": "@jupyter-widgets/base",
       "_view_module_version": "2.0.0",
       "_view_name": "StyleView",
       "bar_color": null,
       "description_width": ""
      }
     },
     "e8c95d5e388549c6a8b8112bcc16bc43": {
      "model_module": "@jupyter-widgets/controls",
      "model_module_version": "2.0.0",
      "model_name": "FloatProgressModel",
      "state": {
       "_dom_classes": [],
       "_model_module": "@jupyter-widgets/controls",
       "_model_module_version": "2.0.0",
       "_model_name": "FloatProgressModel",
       "_view_count": null,
       "_view_module": "@jupyter-widgets/controls",
       "_view_module_version": "2.0.0",
       "_view_name": "ProgressView",
       "bar_style": "success",
       "description": "",
       "description_allow_html": false,
       "layout": "IPY_MODEL_d2354b0fd0bd43b19df45df930d6d90b",
       "max": 1135173.0,
       "min": 0.0,
       "orientation": "horizontal",
       "style": "IPY_MODEL_62a638c045e34efc9933caf5dcec1b70",
       "tabbable": null,
       "tooltip": null,
       "value": 1135173.0
      }
     },
     "eab3337be8cd4a208319b9b22c969cfc": {
      "model_module": "@jupyter-widgets/controls",
      "model_module_version": "2.0.0",
      "model_name": "HTMLStyleModel",
      "state": {
       "_model_module": "@jupyter-widgets/controls",
       "_model_module_version": "2.0.0",
       "_model_name": "HTMLStyleModel",
       "_view_count": null,
       "_view_module": "@jupyter-widgets/base",
       "_view_module_version": "2.0.0",
       "_view_name": "StyleView",
       "background": null,
       "description_width": "",
       "font_size": null,
       "text_color": null
      }
     },
     "eca6884b479844458bc78dc50f49fabd": {
      "model_module": "@jupyter-widgets/controls",
      "model_module_version": "2.0.0",
      "model_name": "HTMLStyleModel",
      "state": {
       "_model_module": "@jupyter-widgets/controls",
       "_model_module_version": "2.0.0",
       "_model_name": "HTMLStyleModel",
       "_view_count": null,
       "_view_module": "@jupyter-widgets/base",
       "_view_module_version": "2.0.0",
       "_view_name": "StyleView",
       "background": null,
       "description_width": "",
       "font_size": null,
       "text_color": null
      }
     },
     "efc044f8c2ab4478ac0dea942a46cee5": {
      "model_module": "@jupyter-widgets/base",
      "model_module_version": "2.0.0",
      "model_name": "LayoutModel",
      "state": {
       "_model_module": "@jupyter-widgets/base",
       "_model_module_version": "2.0.0",
       "_model_name": "LayoutModel",
       "_view_count": null,
       "_view_module": "@jupyter-widgets/base",
       "_view_module_version": "2.0.0",
       "_view_name": "LayoutView",
       "align_content": null,
       "align_items": null,
       "align_self": null,
       "border_bottom": null,
       "border_left": null,
       "border_right": null,
       "border_top": null,
       "bottom": null,
       "display": null,
       "flex": null,
       "flex_flow": null,
       "grid_area": null,
       "grid_auto_columns": null,
       "grid_auto_flow": null,
       "grid_auto_rows": null,
       "grid_column": null,
       "grid_gap": null,
       "grid_row": null,
       "grid_template_areas": null,
       "grid_template_columns": null,
       "grid_template_rows": null,
       "height": null,
       "justify_content": null,
       "justify_items": null,
       "left": null,
       "margin": null,
       "max_height": null,
       "max_width": null,
       "min_height": null,
       "min_width": null,
       "object_fit": null,
       "object_position": null,
       "order": null,
       "overflow": null,
       "padding": null,
       "right": null,
       "top": null,
       "visibility": null,
       "width": null
      }
     },
     "fe8349ddef2f4710904724cedb5a5ebc": {
      "model_module": "@jupyter-widgets/controls",
      "model_module_version": "2.0.0",
      "model_name": "HBoxModel",
      "state": {
       "_dom_classes": [],
       "_model_module": "@jupyter-widgets/controls",
       "_model_module_version": "2.0.0",
       "_model_name": "HBoxModel",
       "_view_count": null,
       "_view_module": "@jupyter-widgets/controls",
       "_view_module_version": "2.0.0",
       "_view_name": "HBoxView",
       "box_style": "",
       "children": [
        "IPY_MODEL_4d4a25dac1424236a8fad483a5a83810",
        "IPY_MODEL_668a49b09db445869319d7f3be8c3e03",
        "IPY_MODEL_c26cd14e4b5d4b208552ff877b8375ff"
       ],
       "layout": "IPY_MODEL_4f9234b315b54a518d3e3fc8e34091a1",
       "tabbable": null,
       "tooltip": null
      }
     },
     "ffc0133e47ab49a3a1d310629d326257": {
      "model_module": "@jupyter-widgets/base",
      "model_module_version": "2.0.0",
      "model_name": "LayoutModel",
      "state": {
       "_model_module": "@jupyter-widgets/base",
       "_model_module_version": "2.0.0",
       "_model_name": "LayoutModel",
       "_view_count": null,
       "_view_module": "@jupyter-widgets/base",
       "_view_module_version": "2.0.0",
       "_view_name": "LayoutView",
       "align_content": null,
       "align_items": null,
       "align_self": null,
       "border_bottom": null,
       "border_left": null,
       "border_right": null,
       "border_top": null,
       "bottom": null,
       "display": null,
       "flex": null,
       "flex_flow": null,
       "grid_area": null,
       "grid_auto_columns": null,
       "grid_auto_flow": null,
       "grid_auto_rows": null,
       "grid_column": null,
       "grid_gap": null,
       "grid_row": null,
       "grid_template_areas": null,
       "grid_template_columns": null,
       "grid_template_rows": null,
       "height": null,
       "justify_content": null,
       "justify_items": null,
       "left": null,
       "margin": null,
       "max_height": null,
       "max_width": null,
       "min_height": null,
       "min_width": null,
       "object_fit": null,
       "object_position": null,
       "order": null,
       "overflow": null,
       "padding": null,
       "right": null,
       "top": null,
       "visibility": null,
       "width": null
      }
     }
    },
    "version_major": 2,
    "version_minor": 0
   }
  }
 },
 "nbformat": 4,
 "nbformat_minor": 5
}
